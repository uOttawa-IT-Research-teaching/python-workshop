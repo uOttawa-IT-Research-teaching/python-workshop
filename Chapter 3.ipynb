{
 "cells": [
  {
   "cell_type": "markdown",
   "metadata": {},
   "source": [
    "# Chapter 3\n",
    "## Data Manipulation"
   ]
  },
  {
   "cell_type": "code",
   "execution_count": null,
   "metadata": {},
   "outputs": [],
   "source": [
    "from matplotlib import pyplot as plt\n",
    "import pandas as pd\n",
    "import numpy as np\n",
    "import seaborn as sns\n",
    "\n",
    "sns.set()\n",
    "\n",
    "# The line below one is only needed for this workshop\n",
    "from done import imdone, quizanswer"
   ]
  },
  {
   "cell_type": "code",
   "execution_count": null,
   "metadata": {},
   "outputs": [],
   "source": [
    "# Make figures bigger in presentation\n",
    "from matplotlib import rcParams\n",
    "rcParams['figure.dpi'] = 144"
   ]
  },
  {
   "cell_type": "markdown",
   "metadata": {},
   "source": [
    "We already saw a small example at the end of chapter 1 when we talked about data sanitation. We filtered the data in such a way that we only saw the names that were only one letter long.\n",
    "\n",
    "Here we will again focus on the baby names data set. So load the CSV again as we did before.\n",
    "### Exercise 3.1\n",
    "Load `data/ontariobabynames.csv` and store the result in the object `babynames`."
   ]
  },
  {
   "cell_type": "code",
   "execution_count": null,
   "metadata": {},
   "outputs": [],
   "source": []
  },
  {
   "cell_type": "code",
   "execution_count": null,
   "metadata": {},
   "outputs": [],
   "source": [
    "imdone(3,1)"
   ]
  },
  {
   "cell_type": "markdown",
   "metadata": {},
   "source": [
    "## Selecting Data\n",
    "\n",
    "Remember from chapter 1, we can select data by column by using the column name, by index using the data frame index number (usually the same as the array index, but not always!), or with `iloc` using the raw array indices. \n",
    "\n",
    "`iloc` is faster since there is no comparison of labels. Most of the times, you won't notice a difference, but if you are doing many operations, you may want to use this."
   ]
  },
  {
   "cell_type": "code",
   "execution_count": null,
   "metadata": {},
   "outputs": [],
   "source": [
    "# Gets the 123457th element of the third column. Remember that array indices start at zero\n",
    "babynames.iloc[123456,2]"
   ]
  },
  {
   "cell_type": "markdown",
   "metadata": {},
   "source": [
    "However, there is one peculiarity about selecting by column. If you select a column through `df[\"colname\"]` you get an Python array back. If you select a column through `df[[\"colname\"]]` you get a DataFrame.\n",
    "\n",
    "It's preferable to keeping a DataFrame because that preserves the column name and keeps access to the DataFrame functions. It's also in line with how you select multiple columns through `df[[\"colname1\",\"colname1\"]]`. You are giving a list of columnnames.\n",
    "\n",
    "However, when comparing the raw data of a column like you do when selecting with `df[\"colname\"] == \"something\"`, you should still keep the single \\[ \\]."
   ]
  },
  {
   "cell_type": "code",
   "execution_count": null,
   "metadata": {},
   "outputs": [],
   "source": [
    "babynames[\"count\"]"
   ]
  },
  {
   "cell_type": "code",
   "execution_count": null,
   "metadata": {},
   "outputs": [],
   "source": [
    "babynames[[\"count\"]]"
   ]
  },
  {
   "cell_type": "markdown",
   "metadata": {},
   "source": [
    "## Filtering\n",
    "If we try to plot the number of babynames as a function of time, it will not be very illuminating. Also, this takes some time considering that we have almost one million rows in our data set depending on how busy Syzygy is, so don't try to run the next line."
   ]
  },
  {
   "cell_type": "code",
   "execution_count": null,
   "metadata": {},
   "outputs": [],
   "source": [
    "sns.scatterplot(x=\"year\", y=\"count\", color=\"black\", data=babynames)"
   ]
  },
  {
   "cell_type": "markdown",
   "metadata": {},
   "source": [
    "Instead we would like to pick out one name and use that. How to do that?\n",
    "\n",
    "Luckily pandas is build for this sort of thing. We can tell pandas to only select certain rows based on criteria we provide. The syntax is\n",
    "```\n",
    "dataframe[some condition]\n",
    "```\n",
    "where `some condition` is something we would like to select on. You can see this is similar to selecting rows or columns as we saw before.\n",
    "\n",
    "The conditions are in the form of\n",
    "```\n",
    "dataframe[\"column name\"] == \"something\"\n",
    "```\n",
    "\n",
    "So let's try that out. We can look at the popularity of the name Mary."
   ]
  },
  {
   "cell_type": "code",
   "execution_count": null,
   "metadata": {},
   "outputs": [],
   "source": [
    "babynames[babynames[\"name\"] == \"Mary\"].head()"
   ]
  },
  {
   "cell_type": "markdown",
   "metadata": {},
   "source": [
    "### Exercise 3.2\n",
    "Plot your own name as a function of time. Fill in the `...` below. If your name is not in the data, you'll be happy to know that you are very unique. However, you'll also get an empty result. For the purpose of this exercise, just use any other name.  Run the cell with `imdone(3,2)` when you are done."
   ]
  },
  {
   "cell_type": "code",
   "execution_count": null,
   "metadata": {},
   "outputs": [],
   "source": [
    "babynames[babynames[\"name\"] == \"...\"].head()"
   ]
  },
  {
   "cell_type": "code",
   "execution_count": null,
   "metadata": {},
   "outputs": [],
   "source": [
    "imdone(3,2)"
   ]
  },
  {
   "cell_type": "markdown",
   "metadata": {},
   "source": [
    "If you happen to be male, you may notice that it is showing female babies if you name is used by all genders. We'll get to that in a minute, but in the mean time, you can use `tail()` to see the bottom of the dataframe."
   ]
  },
  {
   "cell_type": "markdown",
   "metadata": {},
   "source": [
    "## Logical tests\n",
    "When we selected all of the female babies named Mary and Marie we used logical tests. These are statements that are either `True` or `False`. There are various comparisons possible\n",
    "\n",
    "| Notation | `True` if                           |\n",
    "| -------  | ----------------------------------- |\n",
    "| `x < y`  | `x` is less than `y`                |\n",
    "| `x > y`  | `x` is greater than `y`             |\n",
    "| `x == y` | `x` is equal to `y`                 |\n",
    "| `x <= y` | `x` is less than or equal to `y`    |\n",
    "| `x >= y` | `x` is greater than or equal to `y` |\n",
    "| `x != y` | `x` is not equal to `y`             |\n",
    "| `x.isin([\"a\",\"b\"])` | `x` is either \"a\" or \"b\" |"
   ]
  },
  {
   "cell_type": "code",
   "execution_count": null,
   "metadata": {},
   "outputs": [],
   "source": [
    "x = 1"
   ]
  },
  {
   "cell_type": "code",
   "execution_count": null,
   "metadata": {},
   "outputs": [],
   "source": [
    "x > 2"
   ]
  },
  {
   "cell_type": "markdown",
   "metadata": {},
   "source": [
    "### Quiz 3.1\n",
    "From chapter 1 we saw various possibilities for values, like `1` and `\"one\"`.\n",
    "\n",
    "There is another value called `nan` (denoted as `np.nan` since it is part of Numpy).\n",
    "\n",
    "What might `nan` stand for?\n",
    "\n",
    "<div style=\"margin-bottom: 20em;\" />"
   ]
  },
  {
   "cell_type": "markdown",
   "metadata": {},
   "source": [
    "### Quiz 3.2\n",
    "What is the result?\n",
    "\n",
    "```\n",
    "1 == 1\n",
    "```\n",
    "\n",
    "<div style=\"margin-bottom: 20em;\" />"
   ]
  },
  {
   "cell_type": "markdown",
   "metadata": {},
   "source": [
    "### Quiz 3.2\n",
    "What is the result?\n",
    "\n",
    "```\n",
    "1 == np.nan\n",
    "```\n",
    "\n",
    "<div style=\"margin-bottom: 20em;\" />"
   ]
  },
  {
   "cell_type": "markdown",
   "metadata": {},
   "source": [
    "### Quiz 3.4\n",
    "What is the result?\n",
    "\n",
    "```\n",
    "np.nan == np.nan\n",
    "```\n",
    "\n",
    "<div style=\"margin-bottom: 20em;\" />"
   ]
  },
  {
   "cell_type": "markdown",
   "metadata": {},
   "source": [
    "## Logical tests, now with isna\n",
    "\n",
    "| Notation | `True` if                           |\n",
    "| -------  | ----------------------------------- |\n",
    "| `x < y`  | `x` is less than `y`                |\n",
    "| `x > y`  | `x` is greater than `y`             |\n",
    "| `x == y` | `x` is equal to `y`                 |\n",
    "| `x <= y` | `x` is less than or equal to `y`    |\n",
    "| `x >= y` | `x` is greater than or equal to `y` |\n",
    "| `x != y` | `x` is not equal to `y`             |\n",
    "| `x[\"column\"].isin([\"a\",\"b\"])` | `x` is either \"a\" or \"b\" |\n",
    "| `pd.isna(x)` | `x` is a missing value          |\n",
    "| `!pd.isna(x)` | `x` is not a missing value          |"
   ]
  },
  {
   "cell_type": "markdown",
   "metadata": {},
   "source": [
    "### Exercise 3.3\n",
    "Using the logical tests and the selection method, find:\n",
    "- All of the rows where prop is greater than or equal to 0.06\n",
    "- All of the children named \"Alberta\""
   ]
  },
  {
   "cell_type": "code",
   "execution_count": null,
   "metadata": {},
   "outputs": [],
   "source": []
  },
  {
   "cell_type": "code",
   "execution_count": null,
   "metadata": {},
   "outputs": [],
   "source": []
  },
  {
   "cell_type": "code",
   "execution_count": null,
   "metadata": {},
   "outputs": [],
   "source": [
    "imdone(3,3)"
   ]
  },
  {
   "cell_type": "markdown",
   "metadata": {},
   "source": [
    "## Common mistakes\n",
    "Beware, `==` and `=` mean different things! `==` is the comparison operator, `=` is the assignment operator.\n",
    "\n",
    "Also, remember the quotes. `\"hello\"` is a string value, `hello` is an object.\n",
    "## Boolean operators\n",
    "Logical statements can be combined to make more complex version.\n",
    "\n",
    "| Operator in dataframes | Operator for variables | Meaning |\n",
    "| -------- | ------- | ------- |\n",
    "| `&`      | `and`   | and     |\n",
    "| `\\|`     | `or`    | or      |\n",
    "| `!`      | `not`   | not     |\n",
    "| `(  )`   | `(  )`  | group tests |\n",
    "\n",
    "```\n",
    "x = 2\n",
    "\n",
    "(x >= 2) & (x < 3)\n",
    "True & True\n",
    "True\n",
    "```"
   ]
  },
  {
   "cell_type": "markdown",
   "metadata": {},
   "source": [
    "### Exercise 3.4\n",
    "- Find the boys named Mary\n",
    "- Find the names that were used by exactly 5 or 6 children in 1920\n",
    "- Find the names that are either John, Jon, Johnny or Johnnie"
   ]
  },
  {
   "cell_type": "code",
   "execution_count": null,
   "metadata": {},
   "outputs": [],
   "source": []
  },
  {
   "cell_type": "code",
   "execution_count": null,
   "metadata": {},
   "outputs": [],
   "source": []
  },
  {
   "cell_type": "code",
   "execution_count": null,
   "metadata": {},
   "outputs": [],
   "source": []
  },
  {
   "cell_type": "code",
   "execution_count": null,
   "metadata": {},
   "outputs": [],
   "source": []
  },
  {
   "cell_type": "code",
   "execution_count": null,
   "metadata": {},
   "outputs": [],
   "source": []
  },
  {
   "cell_type": "code",
   "execution_count": null,
   "metadata": {},
   "outputs": [],
   "source": [
    "imdone(3,4)"
   ]
  },
  {
   "cell_type": "markdown",
   "metadata": {},
   "source": [
    "## More common mistakes\n",
    "### Combining test into one\n",
    "Wrong: `10 < df[\"n\"] < 20`<br />\n",
    "Right: `(10 < df[\"n\"]) & df[\"n\"] < 20`\n",
    "\n",
    "### Making too many tests\n",
    "\"Wrong\": `df[(df[\"colname\"] == \"a\") & (df[\"colname\"] == \"b\") & (df[\"colname\"] == \"c\")]`<br />\n",
    "Right: `df[df[\"colname\"].isin([\"a\", \"b\", \"c\"])]`"
   ]
  },
  {
   "cell_type": "markdown",
   "metadata": {},
   "source": [
    "## Sorting\n",
    "Pandas allows you to sort data based on columns using the function `sort_values`. So for our `babynames` DataFrame, we can use `babynames.sort_values`. Let's look at the help to see what the options are."
   ]
  },
  {
   "cell_type": "code",
   "execution_count": null,
   "metadata": {},
   "outputs": [],
   "source": [
    "help(babynames.sort_values)"
   ]
  },
  {
   "cell_type": "markdown",
   "metadata": {},
   "source": [
    "### Exercise 3.5\n",
    "Use `sort_values` to find the largest value of \"count\".\n",
    "\n",
    "Combine your knowledge of `sort_values` and the selection rules in this chapter to find the smallest value of \"count\" that is not zero."
   ]
  },
  {
   "cell_type": "code",
   "execution_count": null,
   "metadata": {},
   "outputs": [],
   "source": []
  },
  {
   "cell_type": "code",
   "execution_count": null,
   "metadata": {},
   "outputs": [],
   "source": []
  },
  {
   "cell_type": "code",
   "execution_count": null,
   "metadata": {},
   "outputs": [],
   "source": []
  },
  {
   "cell_type": "code",
   "execution_count": null,
   "metadata": {},
   "outputs": [],
   "source": []
  },
  {
   "cell_type": "code",
   "execution_count": null,
   "metadata": {},
   "outputs": [],
   "source": [
    "imdone(3,5)"
   ]
  },
  {
   "cell_type": "markdown",
   "metadata": {},
   "source": [
    "We can combine all of these actions by storing the intermediate result. For example, if we want the name and number of the boy babies from 2015 sorted by number, we can do that!"
   ]
  },
  {
   "cell_type": "code",
   "execution_count": null,
   "metadata": {},
   "outputs": [],
   "source": [
    "boys_2015 = babynames[(babynames[\"year\"] == 2015) & (babynames[\"sex\"] == \"M\")]\n",
    "boys_2015 = boys_2015[[\"name\", \"count\"]]\n",
    "boys_2015 = boys_2015.sort_values(by=\"count\", ascending=False)\n",
    "boys_2015.head(10)"
   ]
  },
  {
   "cell_type": "markdown",
   "metadata": {},
   "source": [
    "You can also stick is all together, but it doesn't look very pretty..."
   ]
  },
  {
   "cell_type": "code",
   "execution_count": null,
   "metadata": {},
   "outputs": [],
   "source": [
    "babynames[(babynames[\"year\"] == 2015) & (babynames[\"sex\"] == \"M\")][[\"name\", \"count\"]].sort_values(by=\"count\", ascending=False).head(10)"
   ]
  },
  {
   "cell_type": "markdown",
   "metadata": {},
   "source": [
    "### Excercise 3.6\n",
    "Find the female babies born in 2007, keep only the name and count column and find the most popular names"
   ]
  },
  {
   "cell_type": "code",
   "execution_count": null,
   "metadata": {},
   "outputs": [],
   "source": []
  },
  {
   "cell_type": "code",
   "execution_count": null,
   "metadata": {},
   "outputs": [],
   "source": []
  },
  {
   "cell_type": "code",
   "execution_count": null,
   "metadata": {},
   "outputs": [],
   "source": []
  },
  {
   "cell_type": "code",
   "execution_count": null,
   "metadata": {},
   "outputs": [],
   "source": [
    "imdone(3,6)"
   ]
  },
  {
   "cell_type": "markdown",
   "metadata": {},
   "source": [
    "## Plotting\n",
    "Now plotting can be done by calling the plot function and, as before, specifying which columns needs to be plotted. Here we plot the number of female babies named Mary as a function of time."
   ]
  },
  {
   "cell_type": "code",
   "execution_count": null,
   "metadata": {},
   "outputs": [],
   "source": [
    "femalemary = babynames[(babynames[\"name\"] == \"Mary\") & (babynames[\"sex\"] == \"F\")]\n",
    "sns.lineplot(x=\"year\", y=\"count\", data=femalemary)"
   ]
  },
  {
   "cell_type": "markdown",
   "metadata": {},
   "source": [
    "This can also be combined in a single statement, although it doesn't exactly help readability."
   ]
  },
  {
   "cell_type": "code",
   "execution_count": null,
   "metadata": {},
   "outputs": [],
   "source": [
    "sns.lineplot(x=\"year\", y=\"count\", data=babynames[(babynames[\"name\"] == \"Mary\") & (babynames[\"sex\"] == \"F\")])"
   ]
  },
  {
   "cell_type": "markdown",
   "metadata": {},
   "source": [
    "Let's get the female babies name Marie too."
   ]
  },
  {
   "cell_type": "code",
   "execution_count": null,
   "metadata": {},
   "outputs": [],
   "source": [
    "femalemarie = babynames[(babynames[\"name\"] == \"Marie\") & (babynames[\"sex\"] == \"F\")]"
   ]
  },
  {
   "cell_type": "markdown",
   "metadata": {},
   "source": [
    "Trying to plot both means that Seaborn will make it into one plot for you as we saw in the previous chapter."
   ]
  },
  {
   "cell_type": "code",
   "execution_count": null,
   "metadata": {},
   "outputs": [],
   "source": [
    "sns.lineplot(x=\"year\", y=\"count\", data=femalemary)\n",
    "sns.lineplot(x=\"year\", y=\"count\", data=femalemarie)"
   ]
  },
  {
   "cell_type": "markdown",
   "metadata": {},
   "source": [
    "But again, FacetGrid plots, like those produced by `relplot` work slightly different. For those, you need to modify the data to be in the proper format. We will get to that later."
   ]
  },
  {
   "cell_type": "markdown",
   "metadata": {},
   "source": [
    "### Exercise 3.7 - mini-exam!\n",
    "\n",
    "1. Trim babynames to just the rows that contain your name and your sex (or use a different name/sex if it wasn't in babynames)\n",
    "2. Trim the result to just the columns that will appear in your graph (not strictly necessary, but useful practice)\n",
    "3. Plot the results as a line graph with year on the x axis and prop on the y axis"
   ]
  },
  {
   "cell_type": "code",
   "execution_count": null,
   "metadata": {},
   "outputs": [],
   "source": []
  },
  {
   "cell_type": "code",
   "execution_count": null,
   "metadata": {},
   "outputs": [],
   "source": []
  },
  {
   "cell_type": "code",
   "execution_count": null,
   "metadata": {},
   "outputs": [],
   "source": [
    "imdone(3,7)"
   ]
  },
  {
   "cell_type": "markdown",
   "metadata": {},
   "source": [
    "### Quiz 3.5\n",
    "\n",
    "Do we have enough information to:\n",
    "- Calculate the total number of children with each name?\n",
    "\n",
    "<div style=\"margin-bottom: 20em;\" />"
   ]
  },
  {
   "cell_type": "markdown",
   "metadata": {},
   "source": [
    "## Statistical functions\n",
    "\n",
    "Panda dataframe have a number of statistical functions. For example `sum()`, `max()`, `min()`, `count()` and lots more. These can be applied to columns of data frames.\n",
    "\n",
    "For example, to get the total number of babies in our dataset we can take the sum of the \"count\" column."
   ]
  },
  {
   "cell_type": "code",
   "execution_count": null,
   "metadata": {},
   "outputs": [],
   "source": [
    "babynames[\"count\"].sum()"
   ]
  },
  {
   "cell_type": "code",
   "execution_count": null,
   "metadata": {},
   "outputs": [],
   "source": [
    "babynames[\"count\"].max()"
   ]
  },
  {
   "cell_type": "code",
   "execution_count": null,
   "metadata": {},
   "outputs": [],
   "source": [
    "babynames[\"name\"].nunique()"
   ]
  },
  {
   "cell_type": "markdown",
   "metadata": {},
   "source": [
    "It also works without specifying the column name, it will do it for all of the columns. It's a lot of extra work though, so it's usually faster to select the column you are interested in and then apply the function."
   ]
  },
  {
   "cell_type": "code",
   "execution_count": null,
   "metadata": {},
   "outputs": [],
   "source": [
    "babynames.count()"
   ]
  },
  {
   "cell_type": "markdown",
   "metadata": {},
   "source": [
    "### Exercise 3.8\n",
    "Extract the rows where name == \"Khaleesi\". Then use sum() and min() to find:\n",
    "1. The total number of children named Khaleesi\n",
    "2. The first year Khaleesi appeared in the data"
   ]
  },
  {
   "cell_type": "code",
   "execution_count": null,
   "metadata": {},
   "outputs": [],
   "source": []
  },
  {
   "cell_type": "code",
   "execution_count": null,
   "metadata": {},
   "outputs": [],
   "source": []
  },
  {
   "cell_type": "code",
   "execution_count": null,
   "metadata": {},
   "outputs": [],
   "source": []
  },
  {
   "cell_type": "code",
   "execution_count": null,
   "metadata": {},
   "outputs": [],
   "source": [
    "imdone(3,8)"
   ]
  },
  {
   "cell_type": "code",
   "execution_count": null,
   "metadata": {},
   "outputs": [],
   "source": []
  },
  {
   "cell_type": "markdown",
   "metadata": {},
   "source": [
    "## Grouping\n",
    "By \"group by\" we are referring to a process involving one or more of the following steps:\n",
    "\n",
    "- Splitting the data into groups based on some criteria\n",
    "- Applying a function to each group independently\n",
    "- Combining the results into a data structure\n",
    "\n",
    "We saw that we could get the total number of babies named \"Khaleesi\", but can we do this for all of the baby names?\n",
    "\n",
    "Let's see how grouping works first!\n",
    "\n",
    "We'll use a small demo dataframe first, and then it's your turn."
   ]
  },
  {
   "cell_type": "code",
   "execution_count": null,
   "metadata": {},
   "outputs": [],
   "source": [
    "pollution = pd.DataFrame(\n",
    "    {\n",
    "        \"city\": [\n",
    "            \"New York\",\n",
    "            \"New York\",\n",
    "            \"London\",\n",
    "            \"London\",\n",
    "            \"Beijing\",\n",
    "            \"Beijing\",\n",
    "        ],\n",
    "        \"size\": [\n",
    "            \"large\",\n",
    "            \"small\",\n",
    "            \"large\",\n",
    "            \"small\",\n",
    "            \"large\",\n",
    "            \"small\",\n",
    "        ],\n",
    "        \"amount\": [\n",
    "            23,\n",
    "            14,\n",
    "            22,\n",
    "            16,\n",
    "            121,\n",
    "            56,\n",
    "        ]\n",
    "    })"
   ]
  },
  {
   "cell_type": "code",
   "execution_count": null,
   "metadata": {},
   "outputs": [],
   "source": [
    "pollution"
   ]
  },
  {
   "cell_type": "markdown",
   "metadata": {},
   "source": [
    "We can get the stats for the full data set"
   ]
  },
  {
   "cell_type": "code",
   "execution_count": null,
   "metadata": {},
   "outputs": [],
   "source": [
    "pollution[[\"amount\"]].mean()"
   ]
  },
  {
   "cell_type": "code",
   "execution_count": null,
   "metadata": {},
   "outputs": [],
   "source": [
    "pollution[[\"amount\"]].sum()"
   ]
  },
  {
   "cell_type": "code",
   "execution_count": null,
   "metadata": {},
   "outputs": [],
   "source": [
    "pollution[[\"amount\"]].count()"
   ]
  },
  {
   "cell_type": "markdown",
   "metadata": {},
   "source": [
    "But that is not very interesting. What we really want to know is the stats per city. We can do that using grouping and specifically, the function `groupby()`."
   ]
  },
  {
   "cell_type": "code",
   "execution_count": null,
   "metadata": {},
   "outputs": [],
   "source": [
    "grouped_by_city = pollution.groupby(\"city\")"
   ]
  },
  {
   "cell_type": "markdown",
   "metadata": {},
   "source": [
    "We can see what's in it:"
   ]
  },
  {
   "cell_type": "code",
   "execution_count": null,
   "metadata": {},
   "outputs": [],
   "source": [
    "grouped_by_city.groups"
   ]
  },
  {
   "cell_type": "markdown",
   "metadata": {},
   "source": [
    "We can stats from that now"
   ]
  },
  {
   "cell_type": "code",
   "execution_count": null,
   "metadata": {
    "scrolled": true
   },
   "outputs": [],
   "source": [
    "grouped_by_city[[\"amount\"]].mean()"
   ]
  },
  {
   "cell_type": "code",
   "execution_count": null,
   "metadata": {},
   "outputs": [],
   "source": [
    "grouped_by_city[[\"amount\"]].sum()"
   ]
  },
  {
   "cell_type": "code",
   "execution_count": null,
   "metadata": {},
   "outputs": [],
   "source": [
    "grouped_by_city[[\"amount\"]].count()"
   ]
  },
  {
   "cell_type": "markdown",
   "metadata": {},
   "source": [
    "We can also group by multiple columns."
   ]
  },
  {
   "cell_type": "code",
   "execution_count": null,
   "metadata": {},
   "outputs": [],
   "source": [
    "grouped_by_city_and_size = pollution.groupby([\"city\", \"size\"])"
   ]
  },
  {
   "cell_type": "code",
   "execution_count": null,
   "metadata": {},
   "outputs": [],
   "source": [
    "grouped_by_city_and_size.groups"
   ]
  },
  {
   "cell_type": "code",
   "execution_count": null,
   "metadata": {
    "scrolled": true
   },
   "outputs": [],
   "source": [
    "grouped_by_city_and_size[[\"amount\"]].mean()"
   ]
  },
  {
   "cell_type": "code",
   "execution_count": null,
   "metadata": {},
   "outputs": [],
   "source": [
    "grouped_by_city_and_size[[\"amount\"]].sum()"
   ]
  },
  {
   "cell_type": "code",
   "execution_count": null,
   "metadata": {},
   "outputs": [],
   "source": [
    "grouped_by_city_and_size[[\"amount\"]].count()"
   ]
  },
  {
   "cell_type": "markdown",
   "metadata": {},
   "source": [
    "Returning to our babyname now, we can group by sex and see the total number of babies in our data set for each gender."
   ]
  },
  {
   "cell_type": "code",
   "execution_count": null,
   "metadata": {},
   "outputs": [],
   "source": [
    "babynames_sex_count = babynames.groupby(\"sex\")\n",
    "babynames_sex_count = babynames_sex_count[[\"count\"]]\n",
    "babynames_sex_count.sum()"
   ]
  },
  {
   "cell_type": "code",
   "execution_count": null,
   "metadata": {},
   "outputs": [],
   "source": [
    "# Short form:\n",
    "babynames.groupby(\"sex\")[[\"count\"]].sum()"
   ]
  },
  {
   "cell_type": "markdown",
   "metadata": {},
   "source": [
    "## Exercise 3.9\n",
    "Complete the code with `groupby`, `sum` to display the ten most popular name and sex combinations. Compute popularity as the total number of children with a given name and sex.\n",
    "\n",
    "Replace the `...` with the appropriate content."
   ]
  },
  {
   "cell_type": "code",
   "execution_count": null,
   "metadata": {},
   "outputs": [],
   "source": [
    "# Group the babynames\n",
    "babynames_popularity = babynames.groupby(...)\n",
    "# Select the column we want\n",
    "babynames_popularity = babynames_popularity[[...]]\n",
    "# Calculate the total sum\n",
    "babynames_popularity = babynames_popularity. ...()\n",
    "# Sort appropriately\n",
    "babynames_popularity = babynames_popularity. ...\n",
    "# Get the first ten \n",
    "babynames_popularity = babynames_popularity. ...\n",
    "# Show the output\n",
    "babynames_popularity"
   ]
  },
  {
   "cell_type": "code",
   "execution_count": null,
   "metadata": {},
   "outputs": [],
   "source": []
  },
  {
   "cell_type": "code",
   "execution_count": null,
   "metadata": {},
   "outputs": [],
   "source": [
    "imdone(3,9)"
   ]
  },
  {
   "cell_type": "markdown",
   "metadata": {},
   "source": [
    "We can use this result to plot. However, we need to ungroup the new DataFrame first. Using `groupby` turns the grouping into indices. That's why \"name\" and \"sex\" are slightly offset.\n",
    "\n",
    "We can undo that by calling `reset_index()`."
   ]
  },
  {
   "cell_type": "code",
   "execution_count": null,
   "metadata": {},
   "outputs": [],
   "source": [
    "babynames_popularity = babynames_popularity.reset_index()\n",
    "babynames_popularity"
   ]
  },
  {
   "cell_type": "markdown",
   "metadata": {},
   "source": [
    "And then we can plot it!"
   ]
  },
  {
   "cell_type": "code",
   "execution_count": null,
   "metadata": {},
   "outputs": [],
   "source": [
    "p = sns.barplot(x=\"name\", y=\"count\", data=babynames_popularity, color=\"lightblue\")\n",
    "p.set_xticklabels(p.get_xticklabels(), size = 7)\n",
    "pass"
   ]
  },
  {
   "cell_type": "markdown",
   "metadata": {},
   "source": [
    "## Exercise 3.10\n",
    "Use `groupby()` to calculate the total number of children born for every year.\n",
    "\n",
    "Plot the results as a line graph: total vs year."
   ]
  },
  {
   "cell_type": "code",
   "execution_count": null,
   "metadata": {},
   "outputs": [],
   "source": []
  },
  {
   "cell_type": "code",
   "execution_count": null,
   "metadata": {},
   "outputs": [],
   "source": []
  },
  {
   "cell_type": "code",
   "execution_count": null,
   "metadata": {},
   "outputs": [],
   "source": [
    "imdone(3,10)"
   ]
  },
  {
   "cell_type": "markdown",
   "metadata": {},
   "source": [
    "## Mutating data\n",
    "\n",
    "We can add new columns to data frames on the fly which can be calculated."
   ]
  },
  {
   "cell_type": "code",
   "execution_count": null,
   "metadata": {},
   "outputs": [],
   "source": [
    "babynames[\"percentage\"] = 100*babynames[\"prop\"]"
   ]
  },
  {
   "cell_type": "code",
   "execution_count": null,
   "metadata": {},
   "outputs": [],
   "source": [
    "babynames[babynames[\"count\"]>0].head()"
   ]
  },
  {
   "cell_type": "code",
   "execution_count": null,
   "metadata": {},
   "outputs": [],
   "source": [
    "babynames[\"nper\"] = np.round(babynames[\"percentage\"])"
   ]
  },
  {
   "cell_type": "code",
   "execution_count": null,
   "metadata": {},
   "outputs": [],
   "source": [
    "babynames[babynames[\"nper\"]>0].head()"
   ]
  },
  {
   "cell_type": "markdown",
   "metadata": {},
   "source": [
    "## Saving Data\n",
    "To save our modified data, we can use another pandas function similar to `read_csv`. This function is called `to_csv()` and can be applied directly to a data frame."
   ]
  },
  {
   "cell_type": "code",
   "execution_count": null,
   "metadata": {},
   "outputs": [],
   "source": [
    "babynames_year.to_csv(\"test.csv\")"
   ]
  },
  {
   "cell_type": "code",
   "execution_count": null,
   "metadata": {},
   "outputs": [],
   "source": []
  }
 ],
 "metadata": {
  "kernelspec": {
   "display_name": "Python 3 (ipykernel)",
   "language": "python",
   "name": "python3"
  },
  "language_info": {
   "codemirror_mode": {
    "name": "ipython",
    "version": 3
   },
   "file_extension": ".py",
   "mimetype": "text/x-python",
   "name": "python",
   "nbconvert_exporter": "python",
   "pygments_lexer": "ipython3",
   "version": "3.12.7"
  }
 },
 "nbformat": 4,
 "nbformat_minor": 4
}
