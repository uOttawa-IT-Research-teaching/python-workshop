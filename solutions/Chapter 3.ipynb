{
 "cells": [
  {
   "cell_type": "markdown",
   "metadata": {},
   "source": [
    "# Chapter 3\n",
    "## Data Manipulation"
   ]
  },
  {
   "cell_type": "code",
   "execution_count": 1,
   "metadata": {},
   "outputs": [],
   "source": [
    "from matplotlib import pyplot as plt\n",
    "import pandas as pd\n",
    "import numpy as np\n",
    "import seaborn as sns\n",
    "\n",
    "sns.set()\n",
    "\n",
    "# The line below one is only needed for this workshop\n",
    "from done import imdone, quizanswer"
   ]
  },
  {
   "cell_type": "code",
   "execution_count": 21,
   "metadata": {},
   "outputs": [],
   "source": [
    "# Make figures bigger in presentation\n",
    "from matplotlib import rcParams\n",
    "rcParams['figure.dpi'] = 144"
   ]
  },
  {
   "cell_type": "markdown",
   "metadata": {},
   "source": [
    "We already saw a small example at the end of chapter 1 when we talked about data sanitation. We filtered the data in such a way that we only saw the names that were only one letter long.\n",
    "\n",
    "Here we will again focus on the baby names data set. So load the CSV again as we did before.\n",
    "### Exercise 3.1\n",
    "Load `data/ontariobabynames.csv` and store the result in the object `babynames`."
   ]
  },
  {
   "cell_type": "code",
   "execution_count": null,
   "metadata": {},
   "outputs": [],
   "source": []
  },
  {
   "cell_type": "code",
   "execution_count": 3,
   "metadata": {},
   "outputs": [],
   "source": [
    "# Solution (HIDEME)\n",
    "babynames = pd.read_csv('data/ontariobabynames.csv')"
   ]
  },
  {
   "cell_type": "code",
   "execution_count": null,
   "metadata": {},
   "outputs": [],
   "source": [
    "imdone(3,1)"
   ]
  },
  {
   "cell_type": "markdown",
   "metadata": {},
   "source": [
    "## Selecting Data\n",
    "\n",
    "Remember from chapter 1, we can select data by column by using the column name, by index using the data frame index number (usually the same as the array index, but not always!), or with `iloc` using the raw array indices. \n",
    "\n",
    "`iloc` is faster since there is no comparison of labels. Most of the times, you won't notice a difference, but if you are doing many operations, you may want to use this."
   ]
  },
  {
   "cell_type": "code",
   "execution_count": 4,
   "metadata": {},
   "outputs": [
    {
     "data": {
      "text/plain": [
       "'Elin'"
      ]
     },
     "execution_count": 4,
     "metadata": {},
     "output_type": "execute_result"
    }
   ],
   "source": [
    "# Gets the 123457th element of the third column. Remember that array indices start at zero\n",
    "babynames.iloc[123456,2]"
   ]
  },
  {
   "cell_type": "markdown",
   "metadata": {},
   "source": [
    "However, there is one peculiarity about selecting by column. If you select a column through `df[\"colname\"]` you get an Python array back. If you select a column through `df[[\"colname\"]]` you get a DataFrame.\n",
    "\n",
    "It's preferable to keeping a DataFrame because that preserves the column name and keeps access to the DataFrame functions. It's also in line with how you select multiple columns through `df[[\"colname1\",\"colname1\"]]`. You are giving a list of columnnames.\n",
    "\n",
    "However, when comparing the raw data of a column like you do when selecting with `df[\"colname\"] == \"something\"`, you should still keep the single \\[ \\]."
   ]
  },
  {
   "cell_type": "code",
   "execution_count": 5,
   "metadata": {},
   "outputs": [
    {
     "data": {
      "text/plain": [
       "0         0\n",
       "1         0\n",
       "2         0\n",
       "3         0\n",
       "4         0\n",
       "         ..\n",
       "856095    0\n",
       "856096    0\n",
       "856097    0\n",
       "856098    0\n",
       "856099    7\n",
       "Name: count, Length: 856100, dtype: int64"
      ]
     },
     "execution_count": 5,
     "metadata": {},
     "output_type": "execute_result"
    }
   ],
   "source": [
    "babynames[\"count\"]"
   ]
  },
  {
   "cell_type": "code",
   "execution_count": 6,
   "metadata": {},
   "outputs": [
    {
     "data": {
      "text/html": [
       "<div>\n",
       "<style scoped>\n",
       "    .dataframe tbody tr th:only-of-type {\n",
       "        vertical-align: middle;\n",
       "    }\n",
       "\n",
       "    .dataframe tbody tr th {\n",
       "        vertical-align: top;\n",
       "    }\n",
       "\n",
       "    .dataframe thead th {\n",
       "        text-align: right;\n",
       "    }\n",
       "</style>\n",
       "<table border=\"1\" class=\"dataframe\">\n",
       "  <thead>\n",
       "    <tr style=\"text-align: right;\">\n",
       "      <th></th>\n",
       "      <th>count</th>\n",
       "    </tr>\n",
       "  </thead>\n",
       "  <tbody>\n",
       "    <tr>\n",
       "      <th>0</th>\n",
       "      <td>0</td>\n",
       "    </tr>\n",
       "    <tr>\n",
       "      <th>1</th>\n",
       "      <td>0</td>\n",
       "    </tr>\n",
       "    <tr>\n",
       "      <th>2</th>\n",
       "      <td>0</td>\n",
       "    </tr>\n",
       "    <tr>\n",
       "      <th>3</th>\n",
       "      <td>0</td>\n",
       "    </tr>\n",
       "    <tr>\n",
       "      <th>4</th>\n",
       "      <td>0</td>\n",
       "    </tr>\n",
       "    <tr>\n",
       "      <th>...</th>\n",
       "      <td>...</td>\n",
       "    </tr>\n",
       "    <tr>\n",
       "      <th>856095</th>\n",
       "      <td>0</td>\n",
       "    </tr>\n",
       "    <tr>\n",
       "      <th>856096</th>\n",
       "      <td>0</td>\n",
       "    </tr>\n",
       "    <tr>\n",
       "      <th>856097</th>\n",
       "      <td>0</td>\n",
       "    </tr>\n",
       "    <tr>\n",
       "      <th>856098</th>\n",
       "      <td>0</td>\n",
       "    </tr>\n",
       "    <tr>\n",
       "      <th>856099</th>\n",
       "      <td>7</td>\n",
       "    </tr>\n",
       "  </tbody>\n",
       "</table>\n",
       "<p>856100 rows × 1 columns</p>\n",
       "</div>"
      ],
      "text/plain": [
       "        count\n",
       "0           0\n",
       "1           0\n",
       "2           0\n",
       "3           0\n",
       "4           0\n",
       "...       ...\n",
       "856095      0\n",
       "856096      0\n",
       "856097      0\n",
       "856098      0\n",
       "856099      7\n",
       "\n",
       "[856100 rows x 1 columns]"
      ]
     },
     "execution_count": 6,
     "metadata": {},
     "output_type": "execute_result"
    }
   ],
   "source": [
    "babynames[[\"count\"]]"
   ]
  },
  {
   "cell_type": "markdown",
   "metadata": {},
   "source": [
    "## Filtering\n",
    "If we try to plot the number of babynames as a function of time, it will not be very illuminating. Also, this takes some time considering that we have almost one million rows in our data set depending on how busy Syzygy is, so don't try to run the next line."
   ]
  },
  {
   "cell_type": "code",
   "execution_count": 7,
   "metadata": {},
   "outputs": [
    {
     "data": {
      "text/plain": [
       "<matplotlib.axes._subplots.AxesSubplot at 0x7fb8c6ae93a0>"
      ]
     },
     "execution_count": 7,
     "metadata": {},
     "output_type": "execute_result"
    },
    {
     "data": {
      "image/png": "[encoded data removed]",
      "text/plain": [
       "<Figure size 864x576 with 1 Axes>"
      ]
     },
     "metadata": {},
     "output_type": "display_data"
    }
   ],
   "source": [
    "sns.scatterplot(x=\"year\", y=\"count\", color=\"black\", data=babynames)"
   ]
  },
  {
   "cell_type": "markdown",
   "metadata": {},
   "source": [
    "Instead we would like to pick out one name and use that. How to do that?\n",
    "\n",
    "Luckily pandas is build for this sort of thing. We can tell pandas to only select certain rows based on criteria we provide. The syntax is\n",
    "```\n",
    "dataframe[some condition]\n",
    "```\n",
    "where `some condition` is something we would like to select on. You can see this is similar to selecting rows or columns as we saw before.\n",
    "\n",
    "The conditions are in the form of\n",
    "```\n",
    "dataframe[\"column name\"] == \"something\"\n",
    "```\n",
    "\n",
    "So let's try that out. We can look at the popularity of the name Mary."
   ]
  },
  {
   "cell_type": "code",
   "execution_count": 7,
   "metadata": {},
   "outputs": [
    {
     "data": {
      "text/html": [
       "<div>\n",
       "<style scoped>\n",
       "    .dataframe tbody tr th:only-of-type {\n",
       "        vertical-align: middle;\n",
       "    }\n",
       "\n",
       "    .dataframe tbody tr th {\n",
       "        vertical-align: top;\n",
       "    }\n",
       "\n",
       "    .dataframe thead th {\n",
       "        text-align: right;\n",
       "    }\n",
       "</style>\n",
       "<table border=\"1\" class=\"dataframe\">\n",
       "  <thead>\n",
       "    <tr style=\"text-align: right;\">\n",
       "      <th></th>\n",
       "      <th>year</th>\n",
       "      <th>sex</th>\n",
       "      <th>name</th>\n",
       "      <th>count</th>\n",
       "      <th>prop</th>\n",
       "    </tr>\n",
       "  </thead>\n",
       "  <tbody>\n",
       "    <tr>\n",
       "      <th>290400</th>\n",
       "      <td>1917</td>\n",
       "      <td>F</td>\n",
       "      <td>Mary</td>\n",
       "      <td>765</td>\n",
       "      <td>0.012714</td>\n",
       "    </tr>\n",
       "    <tr>\n",
       "      <th>290401</th>\n",
       "      <td>1918</td>\n",
       "      <td>F</td>\n",
       "      <td>Mary</td>\n",
       "      <td>636</td>\n",
       "      <td>0.010570</td>\n",
       "    </tr>\n",
       "    <tr>\n",
       "      <th>290402</th>\n",
       "      <td>1919</td>\n",
       "      <td>F</td>\n",
       "      <td>Mary</td>\n",
       "      <td>480</td>\n",
       "      <td>0.007977</td>\n",
       "    </tr>\n",
       "    <tr>\n",
       "      <th>290403</th>\n",
       "      <td>1920</td>\n",
       "      <td>F</td>\n",
       "      <td>Mary</td>\n",
       "      <td>555</td>\n",
       "      <td>0.009224</td>\n",
       "    </tr>\n",
       "    <tr>\n",
       "      <th>290404</th>\n",
       "      <td>1921</td>\n",
       "      <td>F</td>\n",
       "      <td>Mary</td>\n",
       "      <td>2396</td>\n",
       "      <td>0.039819</td>\n",
       "    </tr>\n",
       "  </tbody>\n",
       "</table>\n",
       "</div>"
      ],
      "text/plain": [
       "        year sex  name  count      prop\n",
       "290400  1917   F  Mary    765  0.012714\n",
       "290401  1918   F  Mary    636  0.010570\n",
       "290402  1919   F  Mary    480  0.007977\n",
       "290403  1920   F  Mary    555  0.009224\n",
       "290404  1921   F  Mary   2396  0.039819"
      ]
     },
     "execution_count": 7,
     "metadata": {},
     "output_type": "execute_result"
    }
   ],
   "source": [
    "babynames[babynames[\"name\"] == \"Mary\"].head()"
   ]
  },
  {
   "cell_type": "markdown",
   "metadata": {},
   "source": [
    "### Exercise 3.2\n",
    "Plot your own name as a function of time. Fill in the `...` below. If your name is not in the data, you'll be happy to know that you are very unique. However, you'll also get an empty result. For the purpose of this exercise, just use any other name.  Run the cell with `imdone(3,2)` when you are done."
   ]
  },
  {
   "cell_type": "code",
   "execution_count": null,
   "metadata": {},
   "outputs": [],
   "source": [
    "babynames[babynames[\"name\"] == \"...\"].head()"
   ]
  },
  {
   "cell_type": "code",
   "execution_count": null,
   "metadata": {},
   "outputs": [],
   "source": [
    "imdone(3,2)"
   ]
  },
  {
   "cell_type": "code",
   "execution_count": 8,
   "metadata": {},
   "outputs": [
    {
     "data": {
      "text/html": [
       "<div>\n",
       "<style scoped>\n",
       "    .dataframe tbody tr th:only-of-type {\n",
       "        vertical-align: middle;\n",
       "    }\n",
       "\n",
       "    .dataframe tbody tr th {\n",
       "        vertical-align: top;\n",
       "    }\n",
       "\n",
       "    .dataframe thead th {\n",
       "        text-align: right;\n",
       "    }\n",
       "</style>\n",
       "<table border=\"1\" class=\"dataframe\">\n",
       "  <thead>\n",
       "    <tr style=\"text-align: right;\">\n",
       "      <th></th>\n",
       "      <th>year</th>\n",
       "      <th>sex</th>\n",
       "      <th>name</th>\n",
       "      <th>count</th>\n",
       "      <th>prop</th>\n",
       "    </tr>\n",
       "  </thead>\n",
       "  <tbody>\n",
       "    <tr>\n",
       "      <th>130000</th>\n",
       "      <td>1917</td>\n",
       "      <td>F</td>\n",
       "      <td>Emily</td>\n",
       "      <td>64</td>\n",
       "      <td>0.001064</td>\n",
       "    </tr>\n",
       "    <tr>\n",
       "      <th>130001</th>\n",
       "      <td>1918</td>\n",
       "      <td>F</td>\n",
       "      <td>Emily</td>\n",
       "      <td>71</td>\n",
       "      <td>0.001180</td>\n",
       "    </tr>\n",
       "    <tr>\n",
       "      <th>130002</th>\n",
       "      <td>1919</td>\n",
       "      <td>F</td>\n",
       "      <td>Emily</td>\n",
       "      <td>63</td>\n",
       "      <td>0.001047</td>\n",
       "    </tr>\n",
       "    <tr>\n",
       "      <th>130003</th>\n",
       "      <td>1920</td>\n",
       "      <td>F</td>\n",
       "      <td>Emily</td>\n",
       "      <td>71</td>\n",
       "      <td>0.001180</td>\n",
       "    </tr>\n",
       "    <tr>\n",
       "      <th>130004</th>\n",
       "      <td>1921</td>\n",
       "      <td>F</td>\n",
       "      <td>Emily</td>\n",
       "      <td>64</td>\n",
       "      <td>0.001064</td>\n",
       "    </tr>\n",
       "  </tbody>\n",
       "</table>\n",
       "</div>"
      ],
      "text/plain": [
       "        year sex   name  count      prop\n",
       "130000  1917   F  Emily     64  0.001064\n",
       "130001  1918   F  Emily     71  0.001180\n",
       "130002  1919   F  Emily     63  0.001047\n",
       "130003  1920   F  Emily     71  0.001180\n",
       "130004  1921   F  Emily     64  0.001064"
      ]
     },
     "execution_count": 8,
     "metadata": {},
     "output_type": "execute_result"
    }
   ],
   "source": [
    "# Solution (HIDEME)\n",
    "babynames[babynames[\"name\"] == \"Emily\"].head()"
   ]
  },
  {
   "cell_type": "markdown",
   "metadata": {},
   "source": [
    "If you happen to be male, you may notice that it is showing female babies if you name is used by all genders. We'll get to that in a minute, but in the mean time, you can use `tail()` to see the bottom of the dataframe."
   ]
  },
  {
   "cell_type": "markdown",
   "metadata": {},
   "source": [
    "## Logical tests\n",
    "When we selected all of the female babies named Mary and Marie we used logical tests. These are statements that are either `True` or `False`. There are various comparisons possible\n",
    "\n",
    "| Notation | `True` if                           |\n",
    "| -------  | ----------------------------------- |\n",
    "| `x < y`  | `x` is less than `y`                |\n",
    "| `x > y`  | `x` is greater than `y`             |\n",
    "| `x == y` | `x` is equal to `y`                 |\n",
    "| `x <= y` | `x` is less than or equal to `y`    |\n",
    "| `x >= y` | `x` is greater than or equal to `y` |\n",
    "| `x != y` | `x` is not equal to `y`             |\n",
    "| `x.isin([\"a\",\"b\"])` | `x` is either \"a\" or \"b\" |"
   ]
  },
  {
   "cell_type": "code",
   "execution_count": null,
   "metadata": {},
   "outputs": [],
   "source": [
    "x = 1"
   ]
  },
  {
   "cell_type": "code",
   "execution_count": null,
   "metadata": {},
   "outputs": [],
   "source": [
    "x > 2"
   ]
  },
  {
   "cell_type": "markdown",
   "metadata": {},
   "source": [
    "### Quiz 3.1\n",
    "From chapter 1 we saw various possibilities for values, like `1` and `\"one\"`.\n",
    "\n",
    "There is another value called `nan` (denoted as `np.nan` since it is part of Numpy).\n",
    "\n",
    "What might `nan` stand for?\n",
    "\n",
    "<div style=\"margin-bottom: 20em;\" />"
   ]
  },
  {
   "cell_type": "markdown",
   "metadata": {},
   "source": [
    "### Quiz 3.2\n",
    "What is the result?\n",
    "\n",
    "```\n",
    "1 == 1\n",
    "```\n",
    "\n",
    "<div style=\"margin-bottom: 20em;\" />"
   ]
  },
  {
   "cell_type": "markdown",
   "metadata": {},
   "source": [
    "### Quiz 3.2\n",
    "What is the result?\n",
    "\n",
    "```\n",
    "1 == np.nan\n",
    "```\n",
    "\n",
    "<div style=\"margin-bottom: 20em;\" />"
   ]
  },
  {
   "cell_type": "markdown",
   "metadata": {},
   "source": [
    "### Quiz 3.4\n",
    "What is the result?\n",
    "\n",
    "```\n",
    "np.nan == np.nan\n",
    "```\n",
    "\n",
    "<div style=\"margin-bottom: 20em;\" />"
   ]
  },
  {
   "cell_type": "markdown",
   "metadata": {},
   "source": [
    "## Logical tests, now with isna\n",
    "\n",
    "| Notation | `True` if                           |\n",
    "| -------  | ----------------------------------- |\n",
    "| `x < y`  | `x` is less than `y`                |\n",
    "| `x > y`  | `x` is greater than `y`             |\n",
    "| `x == y` | `x` is equal to `y`                 |\n",
    "| `x <= y` | `x` is less than or equal to `y`    |\n",
    "| `x >= y` | `x` is greater than or equal to `y` |\n",
    "| `x != y` | `x` is not equal to `y`             |\n",
    "| `x[\"column\"].isin([\"a\",\"b\"])` | `x` is either \"a\" or \"b\" |\n",
    "| `pd.isna(x)` | `x` is a missing value          |\n",
    "| `!pd.isna(x)` | `x` is not a missing value          |"
   ]
  },
  {
   "cell_type": "markdown",
   "metadata": {},
   "source": [
    "### Exercise 3.3\n",
    "Using the logical tests and the selection method, find:\n",
    "- All of the rows where prop is greater than or equal to 0.06\n",
    "- All of the children named \"Alberta\""
   ]
  },
  {
   "cell_type": "code",
   "execution_count": null,
   "metadata": {},
   "outputs": [],
   "source": []
  },
  {
   "cell_type": "code",
   "execution_count": null,
   "metadata": {},
   "outputs": [],
   "source": []
  },
  {
   "cell_type": "code",
   "execution_count": null,
   "metadata": {},
   "outputs": [],
   "source": [
    "imdone(3,3)"
   ]
  },
  {
   "cell_type": "code",
   "execution_count": 9,
   "metadata": {},
   "outputs": [
    {
     "data": {
      "text/html": [
       "<div>\n",
       "<style scoped>\n",
       "    .dataframe tbody tr th:only-of-type {\n",
       "        vertical-align: middle;\n",
       "    }\n",
       "\n",
       "    .dataframe tbody tr th {\n",
       "        vertical-align: top;\n",
       "    }\n",
       "\n",
       "    .dataframe thead th {\n",
       "        text-align: right;\n",
       "    }\n",
       "</style>\n",
       "<table border=\"1\" class=\"dataframe\">\n",
       "  <thead>\n",
       "    <tr style=\"text-align: right;\">\n",
       "      <th></th>\n",
       "      <th>year</th>\n",
       "      <th>sex</th>\n",
       "      <th>name</th>\n",
       "      <th>count</th>\n",
       "      <th>prop</th>\n",
       "    </tr>\n",
       "  </thead>\n",
       "  <tbody>\n",
       "    <tr>\n",
       "      <th>466742</th>\n",
       "      <td>1959</td>\n",
       "      <td>M</td>\n",
       "      <td>David</td>\n",
       "      <td>3651</td>\n",
       "      <td>0.060676</td>\n",
       "    </tr>\n",
       "    <tr>\n",
       "      <th>466743</th>\n",
       "      <td>1960</td>\n",
       "      <td>M</td>\n",
       "      <td>David</td>\n",
       "      <td>3664</td>\n",
       "      <td>0.060892</td>\n",
       "    </tr>\n",
       "    <tr>\n",
       "      <th>466745</th>\n",
       "      <td>1962</td>\n",
       "      <td>M</td>\n",
       "      <td>David</td>\n",
       "      <td>3805</td>\n",
       "      <td>0.063235</td>\n",
       "    </tr>\n",
       "    <tr>\n",
       "      <th>466746</th>\n",
       "      <td>1963</td>\n",
       "      <td>M</td>\n",
       "      <td>David</td>\n",
       "      <td>3740</td>\n",
       "      <td>0.062155</td>\n",
       "    </tr>\n",
       "    <tr>\n",
       "      <th>478738</th>\n",
       "      <td>1955</td>\n",
       "      <td>M</td>\n",
       "      <td>Joseph</td>\n",
       "      <td>3681</td>\n",
       "      <td>0.061175</td>\n",
       "    </tr>\n",
       "    <tr>\n",
       "      <th>478739</th>\n",
       "      <td>1956</td>\n",
       "      <td>M</td>\n",
       "      <td>Joseph</td>\n",
       "      <td>3935</td>\n",
       "      <td>0.065396</td>\n",
       "    </tr>\n",
       "    <tr>\n",
       "      <th>478740</th>\n",
       "      <td>1957</td>\n",
       "      <td>M</td>\n",
       "      <td>Joseph</td>\n",
       "      <td>3946</td>\n",
       "      <td>0.065579</td>\n",
       "    </tr>\n",
       "    <tr>\n",
       "      <th>478741</th>\n",
       "      <td>1958</td>\n",
       "      <td>M</td>\n",
       "      <td>Joseph</td>\n",
       "      <td>3853</td>\n",
       "      <td>0.064033</td>\n",
       "    </tr>\n",
       "    <tr>\n",
       "      <th>478742</th>\n",
       "      <td>1959</td>\n",
       "      <td>M</td>\n",
       "      <td>Joseph</td>\n",
       "      <td>3811</td>\n",
       "      <td>0.063335</td>\n",
       "    </tr>\n",
       "    <tr>\n",
       "      <th>478743</th>\n",
       "      <td>1960</td>\n",
       "      <td>M</td>\n",
       "      <td>Joseph</td>\n",
       "      <td>3840</td>\n",
       "      <td>0.063817</td>\n",
       "    </tr>\n",
       "    <tr>\n",
       "      <th>478744</th>\n",
       "      <td>1961</td>\n",
       "      <td>M</td>\n",
       "      <td>Joseph</td>\n",
       "      <td>3650</td>\n",
       "      <td>0.060659</td>\n",
       "    </tr>\n",
       "  </tbody>\n",
       "</table>\n",
       "</div>"
      ],
      "text/plain": [
       "        year sex    name  count      prop\n",
       "466742  1959   M   David   3651  0.060676\n",
       "466743  1960   M   David   3664  0.060892\n",
       "466745  1962   M   David   3805  0.063235\n",
       "466746  1963   M   David   3740  0.062155\n",
       "478738  1955   M  Joseph   3681  0.061175\n",
       "478739  1956   M  Joseph   3935  0.065396\n",
       "478740  1957   M  Joseph   3946  0.065579\n",
       "478741  1958   M  Joseph   3853  0.064033\n",
       "478742  1959   M  Joseph   3811  0.063335\n",
       "478743  1960   M  Joseph   3840  0.063817\n",
       "478744  1961   M  Joseph   3650  0.060659"
      ]
     },
     "execution_count": 9,
     "metadata": {},
     "output_type": "execute_result"
    }
   ],
   "source": [
    "# Solution (HIDEME)\n",
    "babynames[babynames[\"prop\"] >= 0.06]"
   ]
  },
  {
   "cell_type": "code",
   "execution_count": 10,
   "metadata": {},
   "outputs": [
    {
     "data": {
      "text/html": [
       "<div>\n",
       "<style scoped>\n",
       "    .dataframe tbody tr th:only-of-type {\n",
       "        vertical-align: middle;\n",
       "    }\n",
       "\n",
       "    .dataframe tbody tr th {\n",
       "        vertical-align: top;\n",
       "    }\n",
       "\n",
       "    .dataframe thead th {\n",
       "        text-align: right;\n",
       "    }\n",
       "</style>\n",
       "<table border=\"1\" class=\"dataframe\">\n",
       "  <thead>\n",
       "    <tr style=\"text-align: right;\">\n",
       "      <th></th>\n",
       "      <th>year</th>\n",
       "      <th>sex</th>\n",
       "      <th>name</th>\n",
       "      <th>count</th>\n",
       "      <th>prop</th>\n",
       "    </tr>\n",
       "  </thead>\n",
       "  <tbody>\n",
       "    <tr>\n",
       "      <th>13300</th>\n",
       "      <td>1917</td>\n",
       "      <td>F</td>\n",
       "      <td>Alberta</td>\n",
       "      <td>29</td>\n",
       "      <td>0.000482</td>\n",
       "    </tr>\n",
       "    <tr>\n",
       "      <th>13301</th>\n",
       "      <td>1918</td>\n",
       "      <td>F</td>\n",
       "      <td>Alberta</td>\n",
       "      <td>34</td>\n",
       "      <td>0.000565</td>\n",
       "    </tr>\n",
       "    <tr>\n",
       "      <th>13302</th>\n",
       "      <td>1919</td>\n",
       "      <td>F</td>\n",
       "      <td>Alberta</td>\n",
       "      <td>26</td>\n",
       "      <td>0.000432</td>\n",
       "    </tr>\n",
       "    <tr>\n",
       "      <th>13303</th>\n",
       "      <td>1920</td>\n",
       "      <td>F</td>\n",
       "      <td>Alberta</td>\n",
       "      <td>26</td>\n",
       "      <td>0.000432</td>\n",
       "    </tr>\n",
       "    <tr>\n",
       "      <th>13304</th>\n",
       "      <td>1921</td>\n",
       "      <td>F</td>\n",
       "      <td>Alberta</td>\n",
       "      <td>21</td>\n",
       "      <td>0.000349</td>\n",
       "    </tr>\n",
       "    <tr>\n",
       "      <th>...</th>\n",
       "      <td>...</td>\n",
       "      <td>...</td>\n",
       "      <td>...</td>\n",
       "      <td>...</td>\n",
       "      <td>...</td>\n",
       "    </tr>\n",
       "    <tr>\n",
       "      <th>13395</th>\n",
       "      <td>2012</td>\n",
       "      <td>F</td>\n",
       "      <td>Alberta</td>\n",
       "      <td>0</td>\n",
       "      <td>0.000000</td>\n",
       "    </tr>\n",
       "    <tr>\n",
       "      <th>13396</th>\n",
       "      <td>2013</td>\n",
       "      <td>F</td>\n",
       "      <td>Alberta</td>\n",
       "      <td>0</td>\n",
       "      <td>0.000000</td>\n",
       "    </tr>\n",
       "    <tr>\n",
       "      <th>13397</th>\n",
       "      <td>2014</td>\n",
       "      <td>F</td>\n",
       "      <td>Alberta</td>\n",
       "      <td>0</td>\n",
       "      <td>0.000000</td>\n",
       "    </tr>\n",
       "    <tr>\n",
       "      <th>13398</th>\n",
       "      <td>2015</td>\n",
       "      <td>F</td>\n",
       "      <td>Alberta</td>\n",
       "      <td>0</td>\n",
       "      <td>0.000000</td>\n",
       "    </tr>\n",
       "    <tr>\n",
       "      <th>13399</th>\n",
       "      <td>2016</td>\n",
       "      <td>F</td>\n",
       "      <td>Alberta</td>\n",
       "      <td>0</td>\n",
       "      <td>0.000000</td>\n",
       "    </tr>\n",
       "  </tbody>\n",
       "</table>\n",
       "<p>100 rows × 5 columns</p>\n",
       "</div>"
      ],
      "text/plain": [
       "       year sex     name  count      prop\n",
       "13300  1917   F  Alberta     29  0.000482\n",
       "13301  1918   F  Alberta     34  0.000565\n",
       "13302  1919   F  Alberta     26  0.000432\n",
       "13303  1920   F  Alberta     26  0.000432\n",
       "13304  1921   F  Alberta     21  0.000349\n",
       "...     ...  ..      ...    ...       ...\n",
       "13395  2012   F  Alberta      0  0.000000\n",
       "13396  2013   F  Alberta      0  0.000000\n",
       "13397  2014   F  Alberta      0  0.000000\n",
       "13398  2015   F  Alberta      0  0.000000\n",
       "13399  2016   F  Alberta      0  0.000000\n",
       "\n",
       "[100 rows x 5 columns]"
      ]
     },
     "execution_count": 10,
     "metadata": {},
     "output_type": "execute_result"
    }
   ],
   "source": [
    "# Solution (HIDEME)\n",
    "babynames[babynames[\"name\"] == \"Alberta\"]"
   ]
  },
  {
   "cell_type": "markdown",
   "metadata": {},
   "source": [
    "## Common mistakes\n",
    "Beware, `==` and `=` mean different things! `==` is the comparison operator, `=` is the assignment operator.\n",
    "\n",
    "Also, remember the quotes. `\"hello\"` is a string value, `hello` is an object.\n",
    "## Boolean operators\n",
    "Logical statements can be combined to make more complex version.\n",
    "\n",
    "| Operator in dataframes | Operator for variables | Meaning |\n",
    "| -------- | ------- | ------- |\n",
    "| `&`      | `and`   | and     |\n",
    "| `\\|`     | `or`    | or      |\n",
    "| `!`      | `not`   | not     |\n",
    "| `(  )`   | `(  )`  | group tests |\n",
    "\n",
    "```\n",
    "x = 2\n",
    "\n",
    "(x >= 2) & (x < 3)\n",
    "True & True\n",
    "True\n",
    "```"
   ]
  },
  {
   "cell_type": "markdown",
   "metadata": {},
   "source": [
    "### Exercise 3.4\n",
    "- Find the boys named Mary\n",
    "- Find the names that were used by exactly 5 or 6 children in 1920\n",
    "- Find the names that are either John, Jon, Johnny or Johnnie"
   ]
  },
  {
   "cell_type": "code",
   "execution_count": null,
   "metadata": {},
   "outputs": [],
   "source": []
  },
  {
   "cell_type": "code",
   "execution_count": null,
   "metadata": {},
   "outputs": [],
   "source": []
  },
  {
   "cell_type": "code",
   "execution_count": null,
   "metadata": {},
   "outputs": [],
   "source": []
  },
  {
   "cell_type": "code",
   "execution_count": null,
   "metadata": {},
   "outputs": [],
   "source": []
  },
  {
   "cell_type": "code",
   "execution_count": null,
   "metadata": {},
   "outputs": [],
   "source": []
  },
  {
   "cell_type": "code",
   "execution_count": null,
   "metadata": {},
   "outputs": [],
   "source": [
    "imdone(3,4)"
   ]
  },
  {
   "cell_type": "code",
   "execution_count": 11,
   "metadata": {},
   "outputs": [
    {
     "data": {
      "text/html": [
       "<div>\n",
       "<style scoped>\n",
       "    .dataframe tbody tr th:only-of-type {\n",
       "        vertical-align: middle;\n",
       "    }\n",
       "\n",
       "    .dataframe tbody tr th {\n",
       "        vertical-align: top;\n",
       "    }\n",
       "\n",
       "    .dataframe thead th {\n",
       "        text-align: right;\n",
       "    }\n",
       "</style>\n",
       "<table border=\"1\" class=\"dataframe\">\n",
       "  <thead>\n",
       "    <tr style=\"text-align: right;\">\n",
       "      <th></th>\n",
       "      <th>year</th>\n",
       "      <th>sex</th>\n",
       "      <th>name</th>\n",
       "      <th>count</th>\n",
       "      <th>prop</th>\n",
       "    </tr>\n",
       "  </thead>\n",
       "  <tbody>\n",
       "    <tr>\n",
       "      <th>515300</th>\n",
       "      <td>1917</td>\n",
       "      <td>M</td>\n",
       "      <td>Mary</td>\n",
       "      <td>0</td>\n",
       "      <td>0.000000</td>\n",
       "    </tr>\n",
       "    <tr>\n",
       "      <th>515301</th>\n",
       "      <td>1918</td>\n",
       "      <td>M</td>\n",
       "      <td>Mary</td>\n",
       "      <td>0</td>\n",
       "      <td>0.000000</td>\n",
       "    </tr>\n",
       "    <tr>\n",
       "      <th>515302</th>\n",
       "      <td>1919</td>\n",
       "      <td>M</td>\n",
       "      <td>Mary</td>\n",
       "      <td>0</td>\n",
       "      <td>0.000000</td>\n",
       "    </tr>\n",
       "    <tr>\n",
       "      <th>515303</th>\n",
       "      <td>1920</td>\n",
       "      <td>M</td>\n",
       "      <td>Mary</td>\n",
       "      <td>5</td>\n",
       "      <td>0.000083</td>\n",
       "    </tr>\n",
       "    <tr>\n",
       "      <th>515304</th>\n",
       "      <td>1921</td>\n",
       "      <td>M</td>\n",
       "      <td>Mary</td>\n",
       "      <td>8</td>\n",
       "      <td>0.000133</td>\n",
       "    </tr>\n",
       "    <tr>\n",
       "      <th>...</th>\n",
       "      <td>...</td>\n",
       "      <td>...</td>\n",
       "      <td>...</td>\n",
       "      <td>...</td>\n",
       "      <td>...</td>\n",
       "    </tr>\n",
       "    <tr>\n",
       "      <th>515395</th>\n",
       "      <td>2012</td>\n",
       "      <td>M</td>\n",
       "      <td>Mary</td>\n",
       "      <td>0</td>\n",
       "      <td>0.000000</td>\n",
       "    </tr>\n",
       "    <tr>\n",
       "      <th>515396</th>\n",
       "      <td>2013</td>\n",
       "      <td>M</td>\n",
       "      <td>Mary</td>\n",
       "      <td>0</td>\n",
       "      <td>0.000000</td>\n",
       "    </tr>\n",
       "    <tr>\n",
       "      <th>515397</th>\n",
       "      <td>2014</td>\n",
       "      <td>M</td>\n",
       "      <td>Mary</td>\n",
       "      <td>0</td>\n",
       "      <td>0.000000</td>\n",
       "    </tr>\n",
       "    <tr>\n",
       "      <th>515398</th>\n",
       "      <td>2015</td>\n",
       "      <td>M</td>\n",
       "      <td>Mary</td>\n",
       "      <td>0</td>\n",
       "      <td>0.000000</td>\n",
       "    </tr>\n",
       "    <tr>\n",
       "      <th>515399</th>\n",
       "      <td>2016</td>\n",
       "      <td>M</td>\n",
       "      <td>Mary</td>\n",
       "      <td>0</td>\n",
       "      <td>0.000000</td>\n",
       "    </tr>\n",
       "  </tbody>\n",
       "</table>\n",
       "<p>100 rows × 5 columns</p>\n",
       "</div>"
      ],
      "text/plain": [
       "        year sex  name  count      prop\n",
       "515300  1917   M  Mary      0  0.000000\n",
       "515301  1918   M  Mary      0  0.000000\n",
       "515302  1919   M  Mary      0  0.000000\n",
       "515303  1920   M  Mary      5  0.000083\n",
       "515304  1921   M  Mary      8  0.000133\n",
       "...      ...  ..   ...    ...       ...\n",
       "515395  2012   M  Mary      0  0.000000\n",
       "515396  2013   M  Mary      0  0.000000\n",
       "515397  2014   M  Mary      0  0.000000\n",
       "515398  2015   M  Mary      0  0.000000\n",
       "515399  2016   M  Mary      0  0.000000\n",
       "\n",
       "[100 rows x 5 columns]"
      ]
     },
     "execution_count": 11,
     "metadata": {},
     "output_type": "execute_result"
    }
   ],
   "source": [
    "# Solution (HIDEME)\n",
    "babynames[(babynames[\"name\"] == \"Mary\") & (babynames[\"sex\"] == \"M\")]"
   ]
  },
  {
   "cell_type": "code",
   "execution_count": 12,
   "metadata": {},
   "outputs": [
    {
     "data": {
      "text/html": [
       "<div>\n",
       "<style scoped>\n",
       "    .dataframe tbody tr th:only-of-type {\n",
       "        vertical-align: middle;\n",
       "    }\n",
       "\n",
       "    .dataframe tbody tr th {\n",
       "        vertical-align: top;\n",
       "    }\n",
       "\n",
       "    .dataframe thead th {\n",
       "        text-align: right;\n",
       "    }\n",
       "</style>\n",
       "<table border=\"1\" class=\"dataframe\">\n",
       "  <thead>\n",
       "    <tr style=\"text-align: right;\">\n",
       "      <th></th>\n",
       "      <th>year</th>\n",
       "      <th>sex</th>\n",
       "      <th>name</th>\n",
       "      <th>count</th>\n",
       "      <th>prop</th>\n",
       "    </tr>\n",
       "  </thead>\n",
       "  <tbody>\n",
       "    <tr>\n",
       "      <th>8303</th>\n",
       "      <td>1920</td>\n",
       "      <td>F</td>\n",
       "      <td>Agatha</td>\n",
       "      <td>6</td>\n",
       "      <td>0.000100</td>\n",
       "    </tr>\n",
       "    <tr>\n",
       "      <th>20903</th>\n",
       "      <td>1920</td>\n",
       "      <td>F</td>\n",
       "      <td>Almeda</td>\n",
       "      <td>6</td>\n",
       "      <td>0.000100</td>\n",
       "    </tr>\n",
       "    <tr>\n",
       "      <th>28903</th>\n",
       "      <td>1920</td>\n",
       "      <td>F</td>\n",
       "      <td>Anastasia</td>\n",
       "      <td>6</td>\n",
       "      <td>0.000100</td>\n",
       "    </tr>\n",
       "    <tr>\n",
       "      <th>36003</th>\n",
       "      <td>1920</td>\n",
       "      <td>F</td>\n",
       "      <td>Annetta</td>\n",
       "      <td>6</td>\n",
       "      <td>0.000100</td>\n",
       "    </tr>\n",
       "    <tr>\n",
       "      <th>41803</th>\n",
       "      <td>1920</td>\n",
       "      <td>F</td>\n",
       "      <td>Arline</td>\n",
       "      <td>6</td>\n",
       "      <td>0.000100</td>\n",
       "    </tr>\n",
       "    <tr>\n",
       "      <th>...</th>\n",
       "      <td>...</td>\n",
       "      <td>...</td>\n",
       "      <td>...</td>\n",
       "      <td>...</td>\n",
       "      <td>...</td>\n",
       "    </tr>\n",
       "    <tr>\n",
       "      <th>516303</th>\n",
       "      <td>1920</td>\n",
       "      <td>M</td>\n",
       "      <td>Solly</td>\n",
       "      <td>5</td>\n",
       "      <td>0.000083</td>\n",
       "    </tr>\n",
       "    <tr>\n",
       "      <th>516403</th>\n",
       "      <td>1920</td>\n",
       "      <td>M</td>\n",
       "      <td>Stanly</td>\n",
       "      <td>5</td>\n",
       "      <td>0.000083</td>\n",
       "    </tr>\n",
       "    <tr>\n",
       "      <th>516503</th>\n",
       "      <td>1920</td>\n",
       "      <td>M</td>\n",
       "      <td>Terrence</td>\n",
       "      <td>6</td>\n",
       "      <td>0.000100</td>\n",
       "    </tr>\n",
       "    <tr>\n",
       "      <th>516603</th>\n",
       "      <td>1920</td>\n",
       "      <td>M</td>\n",
       "      <td>Urban</td>\n",
       "      <td>5</td>\n",
       "      <td>0.000083</td>\n",
       "    </tr>\n",
       "    <tr>\n",
       "      <th>516703</th>\n",
       "      <td>1920</td>\n",
       "      <td>M</td>\n",
       "      <td>Willia</td>\n",
       "      <td>5</td>\n",
       "      <td>0.000083</td>\n",
       "    </tr>\n",
       "  </tbody>\n",
       "</table>\n",
       "<p>147 rows × 5 columns</p>\n",
       "</div>"
      ],
      "text/plain": [
       "        year sex       name  count      prop\n",
       "8303    1920   F     Agatha      6  0.000100\n",
       "20903   1920   F     Almeda      6  0.000100\n",
       "28903   1920   F  Anastasia      6  0.000100\n",
       "36003   1920   F    Annetta      6  0.000100\n",
       "41803   1920   F     Arline      6  0.000100\n",
       "...      ...  ..        ...    ...       ...\n",
       "516303  1920   M      Solly      5  0.000083\n",
       "516403  1920   M     Stanly      5  0.000083\n",
       "516503  1920   M   Terrence      6  0.000100\n",
       "516603  1920   M      Urban      5  0.000083\n",
       "516703  1920   M     Willia      5  0.000083\n",
       "\n",
       "[147 rows x 5 columns]"
      ]
     },
     "execution_count": 12,
     "metadata": {},
     "output_type": "execute_result"
    }
   ],
   "source": [
    "# Solution (HIDEME)\n",
    "babynames[((babynames[\"count\"] == 5) | (babynames[\"count\"] == 6)) & (babynames[\"year\"] == 1920)]"
   ]
  },
  {
   "cell_type": "code",
   "execution_count": 13,
   "metadata": {
    "scrolled": true
   },
   "outputs": [
    {
     "data": {
      "text/html": [
       "<div>\n",
       "<style scoped>\n",
       "    .dataframe tbody tr th:only-of-type {\n",
       "        vertical-align: middle;\n",
       "    }\n",
       "\n",
       "    .dataframe tbody tr th {\n",
       "        vertical-align: top;\n",
       "    }\n",
       "\n",
       "    .dataframe thead th {\n",
       "        text-align: right;\n",
       "    }\n",
       "</style>\n",
       "<table border=\"1\" class=\"dataframe\">\n",
       "  <thead>\n",
       "    <tr style=\"text-align: right;\">\n",
       "      <th></th>\n",
       "      <th>year</th>\n",
       "      <th>sex</th>\n",
       "      <th>name</th>\n",
       "      <th>count</th>\n",
       "      <th>prop</th>\n",
       "    </tr>\n",
       "  </thead>\n",
       "  <tbody>\n",
       "    <tr>\n",
       "      <th>194800</th>\n",
       "      <td>1917</td>\n",
       "      <td>F</td>\n",
       "      <td>John</td>\n",
       "      <td>11</td>\n",
       "      <td>0.000183</td>\n",
       "    </tr>\n",
       "    <tr>\n",
       "      <th>194801</th>\n",
       "      <td>1918</td>\n",
       "      <td>F</td>\n",
       "      <td>John</td>\n",
       "      <td>0</td>\n",
       "      <td>0.000000</td>\n",
       "    </tr>\n",
       "    <tr>\n",
       "      <th>194802</th>\n",
       "      <td>1919</td>\n",
       "      <td>F</td>\n",
       "      <td>John</td>\n",
       "      <td>0</td>\n",
       "      <td>0.000000</td>\n",
       "    </tr>\n",
       "    <tr>\n",
       "      <th>194803</th>\n",
       "      <td>1920</td>\n",
       "      <td>F</td>\n",
       "      <td>John</td>\n",
       "      <td>11</td>\n",
       "      <td>0.000183</td>\n",
       "    </tr>\n",
       "    <tr>\n",
       "      <th>194804</th>\n",
       "      <td>1921</td>\n",
       "      <td>F</td>\n",
       "      <td>John</td>\n",
       "      <td>14</td>\n",
       "      <td>0.000233</td>\n",
       "    </tr>\n",
       "    <tr>\n",
       "      <th>...</th>\n",
       "      <td>...</td>\n",
       "      <td>...</td>\n",
       "      <td>...</td>\n",
       "      <td>...</td>\n",
       "      <td>...</td>\n",
       "    </tr>\n",
       "    <tr>\n",
       "      <th>537295</th>\n",
       "      <td>2012</td>\n",
       "      <td>M</td>\n",
       "      <td>Jon</td>\n",
       "      <td>0</td>\n",
       "      <td>0.000000</td>\n",
       "    </tr>\n",
       "    <tr>\n",
       "      <th>537296</th>\n",
       "      <td>2013</td>\n",
       "      <td>M</td>\n",
       "      <td>Jon</td>\n",
       "      <td>6</td>\n",
       "      <td>0.000100</td>\n",
       "    </tr>\n",
       "    <tr>\n",
       "      <th>537297</th>\n",
       "      <td>2014</td>\n",
       "      <td>M</td>\n",
       "      <td>Jon</td>\n",
       "      <td>7</td>\n",
       "      <td>0.000116</td>\n",
       "    </tr>\n",
       "    <tr>\n",
       "      <th>537298</th>\n",
       "      <td>2015</td>\n",
       "      <td>M</td>\n",
       "      <td>Jon</td>\n",
       "      <td>0</td>\n",
       "      <td>0.000000</td>\n",
       "    </tr>\n",
       "    <tr>\n",
       "      <th>537299</th>\n",
       "      <td>2016</td>\n",
       "      <td>M</td>\n",
       "      <td>Jon</td>\n",
       "      <td>7</td>\n",
       "      <td>0.000116</td>\n",
       "    </tr>\n",
       "  </tbody>\n",
       "</table>\n",
       "<p>500 rows × 5 columns</p>\n",
       "</div>"
      ],
      "text/plain": [
       "        year sex  name  count      prop\n",
       "194800  1917   F  John     11  0.000183\n",
       "194801  1918   F  John      0  0.000000\n",
       "194802  1919   F  John      0  0.000000\n",
       "194803  1920   F  John     11  0.000183\n",
       "194804  1921   F  John     14  0.000233\n",
       "...      ...  ..   ...    ...       ...\n",
       "537295  2012   M   Jon      0  0.000000\n",
       "537296  2013   M   Jon      6  0.000100\n",
       "537297  2014   M   Jon      7  0.000116\n",
       "537298  2015   M   Jon      0  0.000000\n",
       "537299  2016   M   Jon      7  0.000116\n",
       "\n",
       "[500 rows x 5 columns]"
      ]
     },
     "execution_count": 13,
     "metadata": {},
     "output_type": "execute_result"
    }
   ],
   "source": [
    "# Solution (HIDEME)\n",
    "babynames[babynames[\"name\"].isin([\"John\", \"Jon\", \"Johnny\", \"Johnnie\"])]"
   ]
  },
  {
   "cell_type": "markdown",
   "metadata": {},
   "source": [
    "## More common mistakes\n",
    "### Combining test into one\n",
    "Wrong: `10 < df[\"n\"] < 20`<br />\n",
    "Right: `(10 < df[\"n\"]) & df[\"n\"] < 20`\n",
    "\n",
    "### Making too many tests\n",
    "\"Wrong\": `df[(df[\"colname\"] == \"a\") & (df[\"colname\"] == \"b\") & (df[\"colname\"] == \"c\")]`<br />\n",
    "Right: `df[df[\"colname\"].isin([\"a\", \"b\", \"c\"])]`"
   ]
  },
  {
   "cell_type": "markdown",
   "metadata": {},
   "source": [
    "## Sorting\n",
    "Pandas allows you to sort data based on columns using the function `sort_values`. So for our `babynames` DataFrame, we can use `babynames.sort_values`. Let's look at the help to see what the options are."
   ]
  },
  {
   "cell_type": "code",
   "execution_count": null,
   "metadata": {},
   "outputs": [],
   "source": [
    "help(babynames.sort_values)"
   ]
  },
  {
   "cell_type": "markdown",
   "metadata": {},
   "source": [
    "### Exercise 3.5\n",
    "Use `sort_values` to find the largest value of \"count\".\n",
    "\n",
    "Combine your knowledge of `sort_values` and the selection rules in this chapter to find the smallest value of \"count\" that is not zero."
   ]
  },
  {
   "cell_type": "code",
   "execution_count": null,
   "metadata": {},
   "outputs": [],
   "source": []
  },
  {
   "cell_type": "code",
   "execution_count": null,
   "metadata": {},
   "outputs": [],
   "source": []
  },
  {
   "cell_type": "code",
   "execution_count": null,
   "metadata": {},
   "outputs": [],
   "source": []
  },
  {
   "cell_type": "code",
   "execution_count": null,
   "metadata": {},
   "outputs": [],
   "source": []
  },
  {
   "cell_type": "code",
   "execution_count": null,
   "metadata": {},
   "outputs": [],
   "source": [
    "imdone(3,5)"
   ]
  },
  {
   "cell_type": "code",
   "execution_count": 14,
   "metadata": {},
   "outputs": [
    {
     "data": {
      "text/html": [
       "<div>\n",
       "<style scoped>\n",
       "    .dataframe tbody tr th:only-of-type {\n",
       "        vertical-align: middle;\n",
       "    }\n",
       "\n",
       "    .dataframe tbody tr th {\n",
       "        vertical-align: top;\n",
       "    }\n",
       "\n",
       "    .dataframe thead th {\n",
       "        text-align: right;\n",
       "    }\n",
       "</style>\n",
       "<table border=\"1\" class=\"dataframe\">\n",
       "  <thead>\n",
       "    <tr style=\"text-align: right;\">\n",
       "      <th></th>\n",
       "      <th>year</th>\n",
       "      <th>sex</th>\n",
       "      <th>name</th>\n",
       "      <th>count</th>\n",
       "      <th>prop</th>\n",
       "    </tr>\n",
       "  </thead>\n",
       "  <tbody>\n",
       "    <tr>\n",
       "      <th>478740</th>\n",
       "      <td>1957</td>\n",
       "      <td>M</td>\n",
       "      <td>Joseph</td>\n",
       "      <td>3946</td>\n",
       "      <td>0.065579</td>\n",
       "    </tr>\n",
       "    <tr>\n",
       "      <th>478739</th>\n",
       "      <td>1956</td>\n",
       "      <td>M</td>\n",
       "      <td>Joseph</td>\n",
       "      <td>3935</td>\n",
       "      <td>0.065396</td>\n",
       "    </tr>\n",
       "    <tr>\n",
       "      <th>478741</th>\n",
       "      <td>1958</td>\n",
       "      <td>M</td>\n",
       "      <td>Joseph</td>\n",
       "      <td>3853</td>\n",
       "      <td>0.064033</td>\n",
       "    </tr>\n",
       "    <tr>\n",
       "      <th>478743</th>\n",
       "      <td>1960</td>\n",
       "      <td>M</td>\n",
       "      <td>Joseph</td>\n",
       "      <td>3840</td>\n",
       "      <td>0.063817</td>\n",
       "    </tr>\n",
       "    <tr>\n",
       "      <th>478742</th>\n",
       "      <td>1959</td>\n",
       "      <td>M</td>\n",
       "      <td>Joseph</td>\n",
       "      <td>3811</td>\n",
       "      <td>0.063335</td>\n",
       "    </tr>\n",
       "    <tr>\n",
       "      <th>466745</th>\n",
       "      <td>1962</td>\n",
       "      <td>M</td>\n",
       "      <td>David</td>\n",
       "      <td>3805</td>\n",
       "      <td>0.063235</td>\n",
       "    </tr>\n",
       "    <tr>\n",
       "      <th>466746</th>\n",
       "      <td>1963</td>\n",
       "      <td>M</td>\n",
       "      <td>David</td>\n",
       "      <td>3740</td>\n",
       "      <td>0.062155</td>\n",
       "    </tr>\n",
       "    <tr>\n",
       "      <th>478738</th>\n",
       "      <td>1955</td>\n",
       "      <td>M</td>\n",
       "      <td>Joseph</td>\n",
       "      <td>3681</td>\n",
       "      <td>0.061175</td>\n",
       "    </tr>\n",
       "    <tr>\n",
       "      <th>466743</th>\n",
       "      <td>1960</td>\n",
       "      <td>M</td>\n",
       "      <td>David</td>\n",
       "      <td>3664</td>\n",
       "      <td>0.060892</td>\n",
       "    </tr>\n",
       "    <tr>\n",
       "      <th>466742</th>\n",
       "      <td>1959</td>\n",
       "      <td>M</td>\n",
       "      <td>David</td>\n",
       "      <td>3651</td>\n",
       "      <td>0.060676</td>\n",
       "    </tr>\n",
       "  </tbody>\n",
       "</table>\n",
       "</div>"
      ],
      "text/plain": [
       "        year sex    name  count      prop\n",
       "478740  1957   M  Joseph   3946  0.065579\n",
       "478739  1956   M  Joseph   3935  0.065396\n",
       "478741  1958   M  Joseph   3853  0.064033\n",
       "478743  1960   M  Joseph   3840  0.063817\n",
       "478742  1959   M  Joseph   3811  0.063335\n",
       "466745  1962   M   David   3805  0.063235\n",
       "466746  1963   M   David   3740  0.062155\n",
       "478738  1955   M  Joseph   3681  0.061175\n",
       "466743  1960   M   David   3664  0.060892\n",
       "466742  1959   M   David   3651  0.060676"
      ]
     },
     "execution_count": 14,
     "metadata": {},
     "output_type": "execute_result"
    }
   ],
   "source": [
    "# Solution (HIDEME)\n",
    "babynames.sort_values(\"count\", ascending=False).head(10)"
   ]
  },
  {
   "cell_type": "code",
   "execution_count": 15,
   "metadata": {},
   "outputs": [
    {
     "data": {
      "text/html": [
       "<div>\n",
       "<style scoped>\n",
       "    .dataframe tbody tr th:only-of-type {\n",
       "        vertical-align: middle;\n",
       "    }\n",
       "\n",
       "    .dataframe tbody tr th {\n",
       "        vertical-align: top;\n",
       "    }\n",
       "\n",
       "    .dataframe thead th {\n",
       "        text-align: right;\n",
       "    }\n",
       "</style>\n",
       "<table border=\"1\" class=\"dataframe\">\n",
       "  <thead>\n",
       "    <tr style=\"text-align: right;\">\n",
       "      <th></th>\n",
       "      <th>year</th>\n",
       "      <th>sex</th>\n",
       "      <th>name</th>\n",
       "      <th>count</th>\n",
       "      <th>prop</th>\n",
       "    </tr>\n",
       "  </thead>\n",
       "  <tbody>\n",
       "    <tr>\n",
       "      <th>576341</th>\n",
       "      <td>1958</td>\n",
       "      <td>M</td>\n",
       "      <td>Bela</td>\n",
       "      <td>5</td>\n",
       "      <td>0.000083</td>\n",
       "    </tr>\n",
       "    <tr>\n",
       "      <th>741084</th>\n",
       "      <td>2001</td>\n",
       "      <td>M</td>\n",
       "      <td>Uzair</td>\n",
       "      <td>5</td>\n",
       "      <td>0.000083</td>\n",
       "    </tr>\n",
       "    <tr>\n",
       "      <th>741083</th>\n",
       "      <td>2000</td>\n",
       "      <td>M</td>\n",
       "      <td>Uzair</td>\n",
       "      <td>5</td>\n",
       "      <td>0.000083</td>\n",
       "    </tr>\n",
       "    <tr>\n",
       "      <th>462146</th>\n",
       "      <td>1963</td>\n",
       "      <td>M</td>\n",
       "      <td>Ben</td>\n",
       "      <td>5</td>\n",
       "      <td>0.000083</td>\n",
       "    </tr>\n",
       "    <tr>\n",
       "      <th>740984</th>\n",
       "      <td>2001</td>\n",
       "      <td>M</td>\n",
       "      <td>Usama</td>\n",
       "      <td>5</td>\n",
       "      <td>0.000083</td>\n",
       "    </tr>\n",
       "  </tbody>\n",
       "</table>\n",
       "</div>"
      ],
      "text/plain": [
       "        year sex   name  count      prop\n",
       "576341  1958   M   Bela      5  0.000083\n",
       "741084  2001   M  Uzair      5  0.000083\n",
       "741083  2000   M  Uzair      5  0.000083\n",
       "462146  1963   M    Ben      5  0.000083\n",
       "740984  2001   M  Usama      5  0.000083"
      ]
     },
     "execution_count": 15,
     "metadata": {},
     "output_type": "execute_result"
    }
   ],
   "source": [
    "# Solution (HIDEME)\n",
    "babynames[babynames[\"count\"] > 0].sort_values(\"count\").head()"
   ]
  },
  {
   "cell_type": "markdown",
   "metadata": {},
   "source": [
    "We can combine all of these actions by storing the intermediate result. For example, if we want the name and number of the boy babies from 2015 sorted by number, we can do that!"
   ]
  },
  {
   "cell_type": "code",
   "execution_count": 16,
   "metadata": {},
   "outputs": [
    {
     "data": {
      "text/html": [
       "<div>\n",
       "<style scoped>\n",
       "    .dataframe tbody tr th:only-of-type {\n",
       "        vertical-align: middle;\n",
       "    }\n",
       "\n",
       "    .dataframe tbody tr th {\n",
       "        vertical-align: top;\n",
       "    }\n",
       "\n",
       "    .dataframe thead th {\n",
       "        text-align: right;\n",
       "    }\n",
       "</style>\n",
       "<table border=\"1\" class=\"dataframe\">\n",
       "  <thead>\n",
       "    <tr style=\"text-align: right;\">\n",
       "      <th></th>\n",
       "      <th>name</th>\n",
       "      <th>count</th>\n",
       "    </tr>\n",
       "  </thead>\n",
       "  <tbody>\n",
       "    <tr>\n",
       "      <th>589498</th>\n",
       "      <td>Liam</td>\n",
       "      <td>793</td>\n",
       "    </tr>\n",
       "    <tr>\n",
       "      <th>462398</th>\n",
       "      <td>Benjamin</td>\n",
       "      <td>748</td>\n",
       "    </tr>\n",
       "    <tr>\n",
       "      <th>515998</th>\n",
       "      <td>Noah</td>\n",
       "      <td>735</td>\n",
       "    </tr>\n",
       "    <tr>\n",
       "      <th>595698</th>\n",
       "      <td>Lucas</td>\n",
       "      <td>707</td>\n",
       "    </tr>\n",
       "    <tr>\n",
       "      <th>607598</th>\n",
       "      <td>Ethan</td>\n",
       "      <td>703</td>\n",
       "    </tr>\n",
       "    <tr>\n",
       "      <th>497198</th>\n",
       "      <td>William</td>\n",
       "      <td>655</td>\n",
       "    </tr>\n",
       "    <tr>\n",
       "      <th>635698</th>\n",
       "      <td>Logan</td>\n",
       "      <td>638</td>\n",
       "    </tr>\n",
       "    <tr>\n",
       "      <th>485398</th>\n",
       "      <td>Nathan</td>\n",
       "      <td>634</td>\n",
       "    </tr>\n",
       "    <tr>\n",
       "      <th>483098</th>\n",
       "      <td>Mason</td>\n",
       "      <td>630</td>\n",
       "    </tr>\n",
       "    <tr>\n",
       "      <th>477998</th>\n",
       "      <td>Jacob</td>\n",
       "      <td>618</td>\n",
       "    </tr>\n",
       "  </tbody>\n",
       "</table>\n",
       "</div>"
      ],
      "text/plain": [
       "            name  count\n",
       "589498      Liam    793\n",
       "462398  Benjamin    748\n",
       "515998      Noah    735\n",
       "595698     Lucas    707\n",
       "607598     Ethan    703\n",
       "497198   William    655\n",
       "635698     Logan    638\n",
       "485398    Nathan    634\n",
       "483098     Mason    630\n",
       "477998     Jacob    618"
      ]
     },
     "execution_count": 16,
     "metadata": {},
     "output_type": "execute_result"
    }
   ],
   "source": [
    "boys_2015 = babynames[(babynames[\"year\"] == 2015) & (babynames[\"sex\"] == \"M\")]\n",
    "boys_2015 = boys_2015[[\"name\", \"count\"]]\n",
    "boys_2015 = boys_2015.sort_values(by=\"count\", ascending=False)\n",
    "boys_2015.head(10)"
   ]
  },
  {
   "cell_type": "markdown",
   "metadata": {},
   "source": [
    "You can also stick is all together, but it doesn't look very pretty..."
   ]
  },
  {
   "cell_type": "code",
   "execution_count": 17,
   "metadata": {},
   "outputs": [
    {
     "data": {
      "text/html": [
       "<div>\n",
       "<style scoped>\n",
       "    .dataframe tbody tr th:only-of-type {\n",
       "        vertical-align: middle;\n",
       "    }\n",
       "\n",
       "    .dataframe tbody tr th {\n",
       "        vertical-align: top;\n",
       "    }\n",
       "\n",
       "    .dataframe thead th {\n",
       "        text-align: right;\n",
       "    }\n",
       "</style>\n",
       "<table border=\"1\" class=\"dataframe\">\n",
       "  <thead>\n",
       "    <tr style=\"text-align: right;\">\n",
       "      <th></th>\n",
       "      <th>name</th>\n",
       "      <th>count</th>\n",
       "    </tr>\n",
       "  </thead>\n",
       "  <tbody>\n",
       "    <tr>\n",
       "      <th>589498</th>\n",
       "      <td>Liam</td>\n",
       "      <td>793</td>\n",
       "    </tr>\n",
       "    <tr>\n",
       "      <th>462398</th>\n",
       "      <td>Benjamin</td>\n",
       "      <td>748</td>\n",
       "    </tr>\n",
       "    <tr>\n",
       "      <th>515998</th>\n",
       "      <td>Noah</td>\n",
       "      <td>735</td>\n",
       "    </tr>\n",
       "    <tr>\n",
       "      <th>595698</th>\n",
       "      <td>Lucas</td>\n",
       "      <td>707</td>\n",
       "    </tr>\n",
       "    <tr>\n",
       "      <th>607598</th>\n",
       "      <td>Ethan</td>\n",
       "      <td>703</td>\n",
       "    </tr>\n",
       "    <tr>\n",
       "      <th>497198</th>\n",
       "      <td>William</td>\n",
       "      <td>655</td>\n",
       "    </tr>\n",
       "    <tr>\n",
       "      <th>635698</th>\n",
       "      <td>Logan</td>\n",
       "      <td>638</td>\n",
       "    </tr>\n",
       "    <tr>\n",
       "      <th>485398</th>\n",
       "      <td>Nathan</td>\n",
       "      <td>634</td>\n",
       "    </tr>\n",
       "    <tr>\n",
       "      <th>483098</th>\n",
       "      <td>Mason</td>\n",
       "      <td>630</td>\n",
       "    </tr>\n",
       "    <tr>\n",
       "      <th>477998</th>\n",
       "      <td>Jacob</td>\n",
       "      <td>618</td>\n",
       "    </tr>\n",
       "  </tbody>\n",
       "</table>\n",
       "</div>"
      ],
      "text/plain": [
       "            name  count\n",
       "589498      Liam    793\n",
       "462398  Benjamin    748\n",
       "515998      Noah    735\n",
       "595698     Lucas    707\n",
       "607598     Ethan    703\n",
       "497198   William    655\n",
       "635698     Logan    638\n",
       "485398    Nathan    634\n",
       "483098     Mason    630\n",
       "477998     Jacob    618"
      ]
     },
     "execution_count": 17,
     "metadata": {},
     "output_type": "execute_result"
    }
   ],
   "source": [
    "babynames[(babynames[\"year\"] == 2015) & (babynames[\"sex\"] == \"M\")][[\"name\", \"count\"]].sort_values(by=\"count\", ascending=False).head(10)"
   ]
  },
  {
   "cell_type": "markdown",
   "metadata": {},
   "source": [
    "### Excercise 3.6\n",
    "Find the female babies born in 2007, keep only the name and count column and find the most popular names"
   ]
  },
  {
   "cell_type": "code",
   "execution_count": null,
   "metadata": {},
   "outputs": [],
   "source": []
  },
  {
   "cell_type": "code",
   "execution_count": null,
   "metadata": {},
   "outputs": [],
   "source": []
  },
  {
   "cell_type": "code",
   "execution_count": null,
   "metadata": {},
   "outputs": [],
   "source": []
  },
  {
   "cell_type": "code",
   "execution_count": null,
   "metadata": {},
   "outputs": [],
   "source": [
    "imdone(3,6)"
   ]
  },
  {
   "cell_type": "code",
   "execution_count": 19,
   "metadata": {},
   "outputs": [
    {
     "data": {
      "text/html": [
       "<div>\n",
       "<style scoped>\n",
       "    .dataframe tbody tr th:only-of-type {\n",
       "        vertical-align: middle;\n",
       "    }\n",
       "\n",
       "    .dataframe tbody tr th {\n",
       "        vertical-align: top;\n",
       "    }\n",
       "\n",
       "    .dataframe thead th {\n",
       "        text-align: right;\n",
       "    }\n",
       "</style>\n",
       "<table border=\"1\" class=\"dataframe\">\n",
       "  <thead>\n",
       "    <tr style=\"text-align: right;\">\n",
       "      <th></th>\n",
       "      <th>name</th>\n",
       "      <th>count</th>\n",
       "    </tr>\n",
       "  </thead>\n",
       "  <tbody>\n",
       "    <tr>\n",
       "      <th>130290</th>\n",
       "      <td>Emma</td>\n",
       "      <td>907</td>\n",
       "    </tr>\n",
       "    <tr>\n",
       "      <th>326990</th>\n",
       "      <td>Olivia</td>\n",
       "      <td>883</td>\n",
       "    </tr>\n",
       "    <tr>\n",
       "      <th>48090</th>\n",
       "      <td>Ava</td>\n",
       "      <td>845</td>\n",
       "    </tr>\n",
       "    <tr>\n",
       "      <th>130090</th>\n",
       "      <td>Emily</td>\n",
       "      <td>782</td>\n",
       "    </tr>\n",
       "    <tr>\n",
       "      <th>171790</th>\n",
       "      <td>Isabella</td>\n",
       "      <td>630</td>\n",
       "    </tr>\n",
       "    <tr>\n",
       "      <th>369090</th>\n",
       "      <td>Sarah</td>\n",
       "      <td>620</td>\n",
       "    </tr>\n",
       "    <tr>\n",
       "      <th>3590</th>\n",
       "      <td>Abigail</td>\n",
       "      <td>591</td>\n",
       "    </tr>\n",
       "    <tr>\n",
       "      <th>158790</th>\n",
       "      <td>Hannah</td>\n",
       "      <td>575</td>\n",
       "    </tr>\n",
       "    <tr>\n",
       "      <th>394990</th>\n",
       "      <td>Sophia</td>\n",
       "      <td>547</td>\n",
       "    </tr>\n",
       "    <tr>\n",
       "      <th>268890</th>\n",
       "      <td>Madison</td>\n",
       "      <td>533</td>\n",
       "    </tr>\n",
       "  </tbody>\n",
       "</table>\n",
       "</div>"
      ],
      "text/plain": [
       "            name  count\n",
       "130290      Emma    907\n",
       "326990    Olivia    883\n",
       "48090        Ava    845\n",
       "130090     Emily    782\n",
       "171790  Isabella    630\n",
       "369090     Sarah    620\n",
       "3590     Abigail    591\n",
       "158790    Hannah    575\n",
       "394990    Sophia    547\n",
       "268890   Madison    533"
      ]
     },
     "execution_count": 19,
     "metadata": {},
     "output_type": "execute_result"
    }
   ],
   "source": [
    "# Solution (HIDEME)\n",
    "girls_2017 = babynames[(babynames[\"year\"] == 2007) & (babynames[\"sex\"] == \"F\")]\n",
    "girls_2017 = girls_2017[[\"name\", \"count\"]]\n",
    "girls_2017 = girls_2017.sort_values(by=\"count\", ascending=False)\n",
    "girls_2017.head(10)"
   ]
  },
  {
   "cell_type": "markdown",
   "metadata": {},
   "source": [
    "## Plotting\n",
    "Now plotting can be done by calling the plot function and, as before, specifying which columns needs to be plotted. Here we plot the number of female babies named Mary as a function of time."
   ]
  },
  {
   "cell_type": "code",
   "execution_count": 22,
   "metadata": {},
   "outputs": [
    {
     "data": {
      "text/plain": [
       "<AxesSubplot:xlabel='year', ylabel='count'>"
      ]
     },
     "execution_count": 22,
     "metadata": {},
     "output_type": "execute_result"
    },
    {
     "data": {
      "image/png": "[encoded data removed]",
      "text/plain": [
       "<Figure size 864x576 with 1 Axes>"
      ]
     },
     "metadata": {
      "needs_background": "light"
     },
     "output_type": "display_data"
    }
   ],
   "source": [
    "femalemary = babynames[(babynames[\"name\"] == \"Mary\") & (babynames[\"sex\"] == \"F\")]\n",
    "sns.lineplot(x=\"year\", y=\"count\", data=femalemary)"
   ]
  },
  {
   "cell_type": "markdown",
   "metadata": {},
   "source": [
    "This can also be combined in a single statement, although it doesn't exactly help readability."
   ]
  },
  {
   "cell_type": "code",
   "execution_count": 23,
   "metadata": {},
   "outputs": [
    {
     "data": {
      "text/plain": [
       "<AxesSubplot:xlabel='year', ylabel='count'>"
      ]
     },
     "execution_count": 23,
     "metadata": {},
     "output_type": "execute_result"
    },
    {
     "data": {
      "image/png": "[encoded data removed]",
      "text/plain": [
       "<Figure size 864x576 with 1 Axes>"
      ]
     },
     "metadata": {
      "needs_background": "light"
     },
     "output_type": "display_data"
    }
   ],
   "source": [
    "sns.lineplot(x=\"year\", y=\"count\", data=babynames[(babynames[\"name\"] == \"Mary\") & (babynames[\"sex\"] == \"F\")])"
   ]
  },
  {
   "cell_type": "markdown",
   "metadata": {},
   "source": [
    "Let's get the female babies name Marie too."
   ]
  },
  {
   "cell_type": "code",
   "execution_count": 25,
   "metadata": {},
   "outputs": [],
   "source": [
    "femalemarie = babynames[(babynames[\"name\"] == \"Marie\") & (babynames[\"sex\"] == \"F\")]"
   ]
  },
  {
   "cell_type": "markdown",
   "metadata": {},
   "source": [
    "Trying to plot both means that Seaborn will make it into one plot for you as we saw in the previous chapter."
   ]
  },
  {
   "cell_type": "code",
   "execution_count": 26,
   "metadata": {},
   "outputs": [
    {
     "data": {
      "text/plain": [
       "<AxesSubplot:xlabel='year', ylabel='count'>"
      ]
     },
     "execution_count": 26,
     "metadata": {},
     "output_type": "execute_result"
    },
    {
     "data": {
      "image/png": "[encoded data removed]",
      "text/plain": [
       "<Figure size 864x576 with 1 Axes>"
      ]
     },
     "metadata": {
      "needs_background": "light"
     },
     "output_type": "display_data"
    }
   ],
   "source": [
    "sns.lineplot(x=\"year\", y=\"count\", data=femalemary)\n",
    "sns.lineplot(x=\"year\", y=\"count\", data=femalemarie)"
   ]
  },
  {
   "cell_type": "markdown",
   "metadata": {},
   "source": [
    "But again, FacetGrid plots, like those produced by `relplot` work slightly different. For those, you need to modify the data to be in the proper format. We will get to that later."
   ]
  },
  {
   "cell_type": "markdown",
   "metadata": {},
   "source": [
    "### Exercise 3.7 - mini-exam!\n",
    "\n",
    "1. Trim babynames to just the rows that contain your name and your sex (or use a different name/sex if it wasn't in babynames)\n",
    "2. Trim the result to just the columns that will appear in your graph (not strictly necessary, but useful practice)\n",
    "3. Plot the results as a line graph with year on the x axis and prop on the y axis"
   ]
  },
  {
   "cell_type": "code",
   "execution_count": null,
   "metadata": {},
   "outputs": [],
   "source": []
  },
  {
   "cell_type": "code",
   "execution_count": null,
   "metadata": {},
   "outputs": [],
   "source": []
  },
  {
   "cell_type": "code",
   "execution_count": 27,
   "metadata": {},
   "outputs": [
    {
     "data": {
      "text/plain": [
       "<AxesSubplot:xlabel='year', ylabel='prop'>"
      ]
     },
     "execution_count": 27,
     "metadata": {},
     "output_type": "execute_result"
    },
    {
     "data": {
      "image/png": "[encoded data removed]",
      "text/plain": [
       "<Figure size 864x576 with 1 Axes>"
      ]
     },
     "metadata": {
      "needs_background": "light"
     },
     "output_type": "display_data"
    }
   ],
   "source": [
    "# Solution (HIDEME)\n",
    "yourname = babynames[(babynames[\"name\"] == \"Emily\") & (babynames[\"sex\"] == \"F\")]\n",
    "yourname = yourname[[\"year\", \"prop\"]]\n",
    "sns.lineplot(x=\"year\", y=\"prop\", data=yourname)"
   ]
  },
  {
   "cell_type": "code",
   "execution_count": null,
   "metadata": {},
   "outputs": [],
   "source": [
    "imdone(3,7)"
   ]
  },
  {
   "cell_type": "markdown",
   "metadata": {},
   "source": [
    "### Quiz 3.5\n",
    "\n",
    "Do we have enough information to:\n",
    "- Calculate the total number of children with each name?\n",
    "\n",
    "<div style=\"margin-bottom: 20em;\" />"
   ]
  },
  {
   "cell_type": "markdown",
   "metadata": {},
   "source": [
    "## Statistical functions\n",
    "\n",
    "Panda dataframe have a number of statistical functions. For example `sum()`, `max()`, `min()`, `count()` and lots more. These can be applied to columns of data frames.\n",
    "\n",
    "For example, to get the total number of babies in our dataset we can take the sum of the \"count\" column."
   ]
  },
  {
   "cell_type": "code",
   "execution_count": 28,
   "metadata": {},
   "outputs": [
    {
     "data": {
      "text/plain": [
       "10349108"
      ]
     },
     "execution_count": 28,
     "metadata": {},
     "output_type": "execute_result"
    }
   ],
   "source": [
    "babynames[\"count\"].sum()"
   ]
  },
  {
   "cell_type": "code",
   "execution_count": 29,
   "metadata": {},
   "outputs": [
    {
     "data": {
      "text/plain": [
       "3946"
      ]
     },
     "execution_count": 29,
     "metadata": {},
     "output_type": "execute_result"
    }
   ],
   "source": [
    "babynames[\"count\"].max()"
   ]
  },
  {
   "cell_type": "code",
   "execution_count": 30,
   "metadata": {},
   "outputs": [
    {
     "data": {
      "text/plain": [
       "8087"
      ]
     },
     "execution_count": 30,
     "metadata": {},
     "output_type": "execute_result"
    }
   ],
   "source": [
    "babynames[\"name\"].nunique()"
   ]
  },
  {
   "cell_type": "markdown",
   "metadata": {},
   "source": [
    "It also works without specifying the column name, it will do it for all of the columns. It's a lot of extra work though, so it's usually faster to select the column you are interested in and then apply the function."
   ]
  },
  {
   "cell_type": "code",
   "execution_count": 31,
   "metadata": {},
   "outputs": [
    {
     "data": {
      "text/plain": [
       "year     856100\n",
       "sex      856100\n",
       "name     856100\n",
       "count    856100\n",
       "prop     856100\n",
       "dtype: int64"
      ]
     },
     "execution_count": 31,
     "metadata": {},
     "output_type": "execute_result"
    }
   ],
   "source": [
    "babynames.count()"
   ]
  },
  {
   "cell_type": "markdown",
   "metadata": {},
   "source": [
    "### Exercise 3.8\n",
    "Extract the rows where name == \"Khaleesi\". Then use sum() and min() to find:\n",
    "1. The total number of children named Khaleesi\n",
    "2. The first year Khaleesi appeared in the data"
   ]
  },
  {
   "cell_type": "code",
   "execution_count": null,
   "metadata": {},
   "outputs": [],
   "source": []
  },
  {
   "cell_type": "code",
   "execution_count": null,
   "metadata": {},
   "outputs": [],
   "source": []
  },
  {
   "cell_type": "code",
   "execution_count": null,
   "metadata": {},
   "outputs": [],
   "source": []
  },
  {
   "cell_type": "code",
   "execution_count": 32,
   "metadata": {},
   "outputs": [
    {
     "data": {
      "text/plain": [
       "41"
      ]
     },
     "execution_count": 32,
     "metadata": {},
     "output_type": "execute_result"
    }
   ],
   "source": [
    "# Solution (HIDEME)\n",
    "khaleesi_count = babynames[babynames[\"name\"] == \"Khaleesi\"]\n",
    "khaleesi_count = khaleesi_count[\"count\"]\n",
    "khaleesi_count.sum()"
   ]
  },
  {
   "cell_type": "code",
   "execution_count": 33,
   "metadata": {},
   "outputs": [
    {
     "data": {
      "text/plain": [
       "2012"
      ]
     },
     "execution_count": 33,
     "metadata": {},
     "output_type": "execute_result"
    }
   ],
   "source": [
    "# Solution (HIDEME)\n",
    "khaleesi_first = babynames[(babynames[\"name\"] == \"Khaleesi\") & (babynames[\"count\"] > 0)]\n",
    "khaleesi_first = khaleesi_first[\"year\"]\n",
    "khaleesi_first.min()"
   ]
  },
  {
   "cell_type": "code",
   "execution_count": null,
   "metadata": {},
   "outputs": [],
   "source": [
    "imdone(3,8)"
   ]
  },
  {
   "cell_type": "code",
   "execution_count": null,
   "metadata": {},
   "outputs": [],
   "source": []
  },
  {
   "cell_type": "markdown",
   "metadata": {},
   "source": [
    "## Grouping\n",
    "By \"group by\" we are referring to a process involving one or more of the following steps:\n",
    "\n",
    "- Splitting the data into groups based on some criteria\n",
    "- Applying a function to each group independently\n",
    "- Combining the results into a data structure\n",
    "\n",
    "We saw that we could get the total number of babies named \"Khaleesi\", but can we do this for all of the baby names?\n",
    "\n",
    "Let's see how grouping works first!\n",
    "\n",
    "We'll use a small demo dataframe first, and then it's your turn."
   ]
  },
  {
   "cell_type": "code",
   "execution_count": 34,
   "metadata": {},
   "outputs": [],
   "source": [
    "pollution = pd.DataFrame(\n",
    "    {\n",
    "        \"city\": [\n",
    "            \"New York\",\n",
    "            \"New York\",\n",
    "            \"London\",\n",
    "            \"London\",\n",
    "            \"Beijing\",\n",
    "            \"Beijing\",\n",
    "        ],\n",
    "        \"size\": [\n",
    "            \"large\",\n",
    "            \"small\",\n",
    "            \"large\",\n",
    "            \"small\",\n",
    "            \"large\",\n",
    "            \"small\",\n",
    "        ],\n",
    "        \"amount\": [\n",
    "            23,\n",
    "            14,\n",
    "            22,\n",
    "            16,\n",
    "            121,\n",
    "            56,\n",
    "        ]\n",
    "    })"
   ]
  },
  {
   "cell_type": "code",
   "execution_count": 35,
   "metadata": {},
   "outputs": [
    {
     "data": {
      "text/html": [
       "<div>\n",
       "<style scoped>\n",
       "    .dataframe tbody tr th:only-of-type {\n",
       "        vertical-align: middle;\n",
       "    }\n",
       "\n",
       "    .dataframe tbody tr th {\n",
       "        vertical-align: top;\n",
       "    }\n",
       "\n",
       "    .dataframe thead th {\n",
       "        text-align: right;\n",
       "    }\n",
       "</style>\n",
       "<table border=\"1\" class=\"dataframe\">\n",
       "  <thead>\n",
       "    <tr style=\"text-align: right;\">\n",
       "      <th></th>\n",
       "      <th>city</th>\n",
       "      <th>size</th>\n",
       "      <th>amount</th>\n",
       "    </tr>\n",
       "  </thead>\n",
       "  <tbody>\n",
       "    <tr>\n",
       "      <th>0</th>\n",
       "      <td>New York</td>\n",
       "      <td>large</td>\n",
       "      <td>23</td>\n",
       "    </tr>\n",
       "    <tr>\n",
       "      <th>1</th>\n",
       "      <td>New York</td>\n",
       "      <td>small</td>\n",
       "      <td>14</td>\n",
       "    </tr>\n",
       "    <tr>\n",
       "      <th>2</th>\n",
       "      <td>London</td>\n",
       "      <td>large</td>\n",
       "      <td>22</td>\n",
       "    </tr>\n",
       "    <tr>\n",
       "      <th>3</th>\n",
       "      <td>London</td>\n",
       "      <td>small</td>\n",
       "      <td>16</td>\n",
       "    </tr>\n",
       "    <tr>\n",
       "      <th>4</th>\n",
       "      <td>Beijing</td>\n",
       "      <td>large</td>\n",
       "      <td>121</td>\n",
       "    </tr>\n",
       "    <tr>\n",
       "      <th>5</th>\n",
       "      <td>Beijing</td>\n",
       "      <td>small</td>\n",
       "      <td>56</td>\n",
       "    </tr>\n",
       "  </tbody>\n",
       "</table>\n",
       "</div>"
      ],
      "text/plain": [
       "       city   size  amount\n",
       "0  New York  large      23\n",
       "1  New York  small      14\n",
       "2    London  large      22\n",
       "3    London  small      16\n",
       "4   Beijing  large     121\n",
       "5   Beijing  small      56"
      ]
     },
     "execution_count": 35,
     "metadata": {},
     "output_type": "execute_result"
    }
   ],
   "source": [
    "pollution"
   ]
  },
  {
   "cell_type": "markdown",
   "metadata": {},
   "source": [
    "We can get the stats for the full data set"
   ]
  },
  {
   "cell_type": "code",
   "execution_count": 36,
   "metadata": {},
   "outputs": [
    {
     "data": {
      "text/plain": [
       "amount    42.0\n",
       "dtype: float64"
      ]
     },
     "execution_count": 36,
     "metadata": {},
     "output_type": "execute_result"
    }
   ],
   "source": [
    "pollution[[\"amount\"]].mean()"
   ]
  },
  {
   "cell_type": "code",
   "execution_count": 37,
   "metadata": {},
   "outputs": [
    {
     "data": {
      "text/plain": [
       "amount    252\n",
       "dtype: int64"
      ]
     },
     "execution_count": 37,
     "metadata": {},
     "output_type": "execute_result"
    }
   ],
   "source": [
    "pollution[[\"amount\"]].sum()"
   ]
  },
  {
   "cell_type": "code",
   "execution_count": 38,
   "metadata": {},
   "outputs": [
    {
     "data": {
      "text/plain": [
       "amount    6\n",
       "dtype: int64"
      ]
     },
     "execution_count": 38,
     "metadata": {},
     "output_type": "execute_result"
    }
   ],
   "source": [
    "pollution[[\"amount\"]].count()"
   ]
  },
  {
   "cell_type": "markdown",
   "metadata": {},
   "source": [
    "But that is not very interesting. What we really want to know is the stats per city. We can do that using grouping and specifically, the function `groupby()`."
   ]
  },
  {
   "cell_type": "code",
   "execution_count": 39,
   "metadata": {},
   "outputs": [],
   "source": [
    "grouped_by_city = pollution.groupby(\"city\")"
   ]
  },
  {
   "cell_type": "markdown",
   "metadata": {},
   "source": [
    "We can see what's in it:"
   ]
  },
  {
   "cell_type": "code",
   "execution_count": 40,
   "metadata": {},
   "outputs": [
    {
     "data": {
      "text/plain": [
       "{'Beijing': [4, 5], 'London': [2, 3], 'New York': [0, 1]}"
      ]
     },
     "execution_count": 40,
     "metadata": {},
     "output_type": "execute_result"
    }
   ],
   "source": [
    "grouped_by_city.groups"
   ]
  },
  {
   "cell_type": "markdown",
   "metadata": {},
   "source": [
    "We can stats from that now"
   ]
  },
  {
   "cell_type": "code",
   "execution_count": 41,
   "metadata": {
    "scrolled": true
   },
   "outputs": [
    {
     "data": {
      "text/html": [
       "<div>\n",
       "<style scoped>\n",
       "    .dataframe tbody tr th:only-of-type {\n",
       "        vertical-align: middle;\n",
       "    }\n",
       "\n",
       "    .dataframe tbody tr th {\n",
       "        vertical-align: top;\n",
       "    }\n",
       "\n",
       "    .dataframe thead th {\n",
       "        text-align: right;\n",
       "    }\n",
       "</style>\n",
       "<table border=\"1\" class=\"dataframe\">\n",
       "  <thead>\n",
       "    <tr style=\"text-align: right;\">\n",
       "      <th></th>\n",
       "      <th>amount</th>\n",
       "    </tr>\n",
       "    <tr>\n",
       "      <th>city</th>\n",
       "      <th></th>\n",
       "    </tr>\n",
       "  </thead>\n",
       "  <tbody>\n",
       "    <tr>\n",
       "      <th>Beijing</th>\n",
       "      <td>88.5</td>\n",
       "    </tr>\n",
       "    <tr>\n",
       "      <th>London</th>\n",
       "      <td>19.0</td>\n",
       "    </tr>\n",
       "    <tr>\n",
       "      <th>New York</th>\n",
       "      <td>18.5</td>\n",
       "    </tr>\n",
       "  </tbody>\n",
       "</table>\n",
       "</div>"
      ],
      "text/plain": [
       "          amount\n",
       "city            \n",
       "Beijing     88.5\n",
       "London      19.0\n",
       "New York    18.5"
      ]
     },
     "execution_count": 41,
     "metadata": {},
     "output_type": "execute_result"
    }
   ],
   "source": [
    "grouped_by_city[[\"amount\"]].mean()"
   ]
  },
  {
   "cell_type": "code",
   "execution_count": 42,
   "metadata": {},
   "outputs": [
    {
     "data": {
      "text/html": [
       "<div>\n",
       "<style scoped>\n",
       "    .dataframe tbody tr th:only-of-type {\n",
       "        vertical-align: middle;\n",
       "    }\n",
       "\n",
       "    .dataframe tbody tr th {\n",
       "        vertical-align: top;\n",
       "    }\n",
       "\n",
       "    .dataframe thead th {\n",
       "        text-align: right;\n",
       "    }\n",
       "</style>\n",
       "<table border=\"1\" class=\"dataframe\">\n",
       "  <thead>\n",
       "    <tr style=\"text-align: right;\">\n",
       "      <th></th>\n",
       "      <th>amount</th>\n",
       "    </tr>\n",
       "    <tr>\n",
       "      <th>city</th>\n",
       "      <th></th>\n",
       "    </tr>\n",
       "  </thead>\n",
       "  <tbody>\n",
       "    <tr>\n",
       "      <th>Beijing</th>\n",
       "      <td>177</td>\n",
       "    </tr>\n",
       "    <tr>\n",
       "      <th>London</th>\n",
       "      <td>38</td>\n",
       "    </tr>\n",
       "    <tr>\n",
       "      <th>New York</th>\n",
       "      <td>37</td>\n",
       "    </tr>\n",
       "  </tbody>\n",
       "</table>\n",
       "</div>"
      ],
      "text/plain": [
       "          amount\n",
       "city            \n",
       "Beijing      177\n",
       "London        38\n",
       "New York      37"
      ]
     },
     "execution_count": 42,
     "metadata": {},
     "output_type": "execute_result"
    }
   ],
   "source": [
    "grouped_by_city[[\"amount\"]].sum()"
   ]
  },
  {
   "cell_type": "code",
   "execution_count": 43,
   "metadata": {},
   "outputs": [
    {
     "data": {
      "text/html": [
       "<div>\n",
       "<style scoped>\n",
       "    .dataframe tbody tr th:only-of-type {\n",
       "        vertical-align: middle;\n",
       "    }\n",
       "\n",
       "    .dataframe tbody tr th {\n",
       "        vertical-align: top;\n",
       "    }\n",
       "\n",
       "    .dataframe thead th {\n",
       "        text-align: right;\n",
       "    }\n",
       "</style>\n",
       "<table border=\"1\" class=\"dataframe\">\n",
       "  <thead>\n",
       "    <tr style=\"text-align: right;\">\n",
       "      <th></th>\n",
       "      <th>amount</th>\n",
       "    </tr>\n",
       "    <tr>\n",
       "      <th>city</th>\n",
       "      <th></th>\n",
       "    </tr>\n",
       "  </thead>\n",
       "  <tbody>\n",
       "    <tr>\n",
       "      <th>Beijing</th>\n",
       "      <td>2</td>\n",
       "    </tr>\n",
       "    <tr>\n",
       "      <th>London</th>\n",
       "      <td>2</td>\n",
       "    </tr>\n",
       "    <tr>\n",
       "      <th>New York</th>\n",
       "      <td>2</td>\n",
       "    </tr>\n",
       "  </tbody>\n",
       "</table>\n",
       "</div>"
      ],
      "text/plain": [
       "          amount\n",
       "city            \n",
       "Beijing        2\n",
       "London         2\n",
       "New York       2"
      ]
     },
     "execution_count": 43,
     "metadata": {},
     "output_type": "execute_result"
    }
   ],
   "source": [
    "grouped_by_city[[\"amount\"]].count()"
   ]
  },
  {
   "cell_type": "markdown",
   "metadata": {},
   "source": [
    "We can also group by multiple columns."
   ]
  },
  {
   "cell_type": "code",
   "execution_count": 44,
   "metadata": {},
   "outputs": [],
   "source": [
    "grouped_by_city_and_size = pollution.groupby([\"city\", \"size\"])"
   ]
  },
  {
   "cell_type": "code",
   "execution_count": 45,
   "metadata": {},
   "outputs": [
    {
     "data": {
      "text/plain": [
       "{('Beijing', 'large'): [4], ('Beijing', 'small'): [5], ('London', 'large'): [2], ('London', 'small'): [3], ('New York', 'large'): [0], ('New York', 'small'): [1]}"
      ]
     },
     "execution_count": 45,
     "metadata": {},
     "output_type": "execute_result"
    }
   ],
   "source": [
    "grouped_by_city_and_size.groups"
   ]
  },
  {
   "cell_type": "code",
   "execution_count": 46,
   "metadata": {
    "scrolled": true
   },
   "outputs": [
    {
     "data": {
      "text/html": [
       "<div>\n",
       "<style scoped>\n",
       "    .dataframe tbody tr th:only-of-type {\n",
       "        vertical-align: middle;\n",
       "    }\n",
       "\n",
       "    .dataframe tbody tr th {\n",
       "        vertical-align: top;\n",
       "    }\n",
       "\n",
       "    .dataframe thead th {\n",
       "        text-align: right;\n",
       "    }\n",
       "</style>\n",
       "<table border=\"1\" class=\"dataframe\">\n",
       "  <thead>\n",
       "    <tr style=\"text-align: right;\">\n",
       "      <th></th>\n",
       "      <th></th>\n",
       "      <th>amount</th>\n",
       "    </tr>\n",
       "    <tr>\n",
       "      <th>city</th>\n",
       "      <th>size</th>\n",
       "      <th></th>\n",
       "    </tr>\n",
       "  </thead>\n",
       "  <tbody>\n",
       "    <tr>\n",
       "      <th rowspan=\"2\" valign=\"top\">Beijing</th>\n",
       "      <th>large</th>\n",
       "      <td>121.0</td>\n",
       "    </tr>\n",
       "    <tr>\n",
       "      <th>small</th>\n",
       "      <td>56.0</td>\n",
       "    </tr>\n",
       "    <tr>\n",
       "      <th rowspan=\"2\" valign=\"top\">London</th>\n",
       "      <th>large</th>\n",
       "      <td>22.0</td>\n",
       "    </tr>\n",
       "    <tr>\n",
       "      <th>small</th>\n",
       "      <td>16.0</td>\n",
       "    </tr>\n",
       "    <tr>\n",
       "      <th rowspan=\"2\" valign=\"top\">New York</th>\n",
       "      <th>large</th>\n",
       "      <td>23.0</td>\n",
       "    </tr>\n",
       "    <tr>\n",
       "      <th>small</th>\n",
       "      <td>14.0</td>\n",
       "    </tr>\n",
       "  </tbody>\n",
       "</table>\n",
       "</div>"
      ],
      "text/plain": [
       "                amount\n",
       "city     size         \n",
       "Beijing  large   121.0\n",
       "         small    56.0\n",
       "London   large    22.0\n",
       "         small    16.0\n",
       "New York large    23.0\n",
       "         small    14.0"
      ]
     },
     "execution_count": 46,
     "metadata": {},
     "output_type": "execute_result"
    }
   ],
   "source": [
    "grouped_by_city_and_size[[\"amount\"]].mean()"
   ]
  },
  {
   "cell_type": "code",
   "execution_count": 47,
   "metadata": {},
   "outputs": [
    {
     "data": {
      "text/html": [
       "<div>\n",
       "<style scoped>\n",
       "    .dataframe tbody tr th:only-of-type {\n",
       "        vertical-align: middle;\n",
       "    }\n",
       "\n",
       "    .dataframe tbody tr th {\n",
       "        vertical-align: top;\n",
       "    }\n",
       "\n",
       "    .dataframe thead th {\n",
       "        text-align: right;\n",
       "    }\n",
       "</style>\n",
       "<table border=\"1\" class=\"dataframe\">\n",
       "  <thead>\n",
       "    <tr style=\"text-align: right;\">\n",
       "      <th></th>\n",
       "      <th></th>\n",
       "      <th>amount</th>\n",
       "    </tr>\n",
       "    <tr>\n",
       "      <th>city</th>\n",
       "      <th>size</th>\n",
       "      <th></th>\n",
       "    </tr>\n",
       "  </thead>\n",
       "  <tbody>\n",
       "    <tr>\n",
       "      <th rowspan=\"2\" valign=\"top\">Beijing</th>\n",
       "      <th>large</th>\n",
       "      <td>121</td>\n",
       "    </tr>\n",
       "    <tr>\n",
       "      <th>small</th>\n",
       "      <td>56</td>\n",
       "    </tr>\n",
       "    <tr>\n",
       "      <th rowspan=\"2\" valign=\"top\">London</th>\n",
       "      <th>large</th>\n",
       "      <td>22</td>\n",
       "    </tr>\n",
       "    <tr>\n",
       "      <th>small</th>\n",
       "      <td>16</td>\n",
       "    </tr>\n",
       "    <tr>\n",
       "      <th rowspan=\"2\" valign=\"top\">New York</th>\n",
       "      <th>large</th>\n",
       "      <td>23</td>\n",
       "    </tr>\n",
       "    <tr>\n",
       "      <th>small</th>\n",
       "      <td>14</td>\n",
       "    </tr>\n",
       "  </tbody>\n",
       "</table>\n",
       "</div>"
      ],
      "text/plain": [
       "                amount\n",
       "city     size         \n",
       "Beijing  large     121\n",
       "         small      56\n",
       "London   large      22\n",
       "         small      16\n",
       "New York large      23\n",
       "         small      14"
      ]
     },
     "execution_count": 47,
     "metadata": {},
     "output_type": "execute_result"
    }
   ],
   "source": [
    "grouped_by_city_and_size[[\"amount\"]].sum()"
   ]
  },
  {
   "cell_type": "code",
   "execution_count": 48,
   "metadata": {},
   "outputs": [
    {
     "data": {
      "text/html": [
       "<div>\n",
       "<style scoped>\n",
       "    .dataframe tbody tr th:only-of-type {\n",
       "        vertical-align: middle;\n",
       "    }\n",
       "\n",
       "    .dataframe tbody tr th {\n",
       "        vertical-align: top;\n",
       "    }\n",
       "\n",
       "    .dataframe thead th {\n",
       "        text-align: right;\n",
       "    }\n",
       "</style>\n",
       "<table border=\"1\" class=\"dataframe\">\n",
       "  <thead>\n",
       "    <tr style=\"text-align: right;\">\n",
       "      <th></th>\n",
       "      <th></th>\n",
       "      <th>amount</th>\n",
       "    </tr>\n",
       "    <tr>\n",
       "      <th>city</th>\n",
       "      <th>size</th>\n",
       "      <th></th>\n",
       "    </tr>\n",
       "  </thead>\n",
       "  <tbody>\n",
       "    <tr>\n",
       "      <th rowspan=\"2\" valign=\"top\">Beijing</th>\n",
       "      <th>large</th>\n",
       "      <td>1</td>\n",
       "    </tr>\n",
       "    <tr>\n",
       "      <th>small</th>\n",
       "      <td>1</td>\n",
       "    </tr>\n",
       "    <tr>\n",
       "      <th rowspan=\"2\" valign=\"top\">London</th>\n",
       "      <th>large</th>\n",
       "      <td>1</td>\n",
       "    </tr>\n",
       "    <tr>\n",
       "      <th>small</th>\n",
       "      <td>1</td>\n",
       "    </tr>\n",
       "    <tr>\n",
       "      <th rowspan=\"2\" valign=\"top\">New York</th>\n",
       "      <th>large</th>\n",
       "      <td>1</td>\n",
       "    </tr>\n",
       "    <tr>\n",
       "      <th>small</th>\n",
       "      <td>1</td>\n",
       "    </tr>\n",
       "  </tbody>\n",
       "</table>\n",
       "</div>"
      ],
      "text/plain": [
       "                amount\n",
       "city     size         \n",
       "Beijing  large       1\n",
       "         small       1\n",
       "London   large       1\n",
       "         small       1\n",
       "New York large       1\n",
       "         small       1"
      ]
     },
     "execution_count": 48,
     "metadata": {},
     "output_type": "execute_result"
    }
   ],
   "source": [
    "grouped_by_city_and_size[[\"amount\"]].count()"
   ]
  },
  {
   "cell_type": "markdown",
   "metadata": {},
   "source": [
    "Returning to our babyname now, we can group by sex and see the total number of babies in our data set for each gender."
   ]
  },
  {
   "cell_type": "code",
   "execution_count": 49,
   "metadata": {},
   "outputs": [
    {
     "data": {
      "text/html": [
       "<div>\n",
       "<style scoped>\n",
       "    .dataframe tbody tr th:only-of-type {\n",
       "        vertical-align: middle;\n",
       "    }\n",
       "\n",
       "    .dataframe tbody tr th {\n",
       "        vertical-align: top;\n",
       "    }\n",
       "\n",
       "    .dataframe thead th {\n",
       "        text-align: right;\n",
       "    }\n",
       "</style>\n",
       "<table border=\"1\" class=\"dataframe\">\n",
       "  <thead>\n",
       "    <tr style=\"text-align: right;\">\n",
       "      <th></th>\n",
       "      <th>count</th>\n",
       "    </tr>\n",
       "    <tr>\n",
       "      <th>sex</th>\n",
       "      <th></th>\n",
       "    </tr>\n",
       "  </thead>\n",
       "  <tbody>\n",
       "    <tr>\n",
       "      <th>F</th>\n",
       "      <td>4910591</td>\n",
       "    </tr>\n",
       "    <tr>\n",
       "      <th>M</th>\n",
       "      <td>5438517</td>\n",
       "    </tr>\n",
       "  </tbody>\n",
       "</table>\n",
       "</div>"
      ],
      "text/plain": [
       "       count\n",
       "sex         \n",
       "F    4910591\n",
       "M    5438517"
      ]
     },
     "execution_count": 49,
     "metadata": {},
     "output_type": "execute_result"
    }
   ],
   "source": [
    "babynames_sex_count = babynames.groupby(\"sex\")\n",
    "babynames_sex_count = babynames_sex_count[[\"count\"]]\n",
    "babynames_sex_count.sum()"
   ]
  },
  {
   "cell_type": "code",
   "execution_count": 50,
   "metadata": {},
   "outputs": [
    {
     "data": {
      "text/html": [
       "<div>\n",
       "<style scoped>\n",
       "    .dataframe tbody tr th:only-of-type {\n",
       "        vertical-align: middle;\n",
       "    }\n",
       "\n",
       "    .dataframe tbody tr th {\n",
       "        vertical-align: top;\n",
       "    }\n",
       "\n",
       "    .dataframe thead th {\n",
       "        text-align: right;\n",
       "    }\n",
       "</style>\n",
       "<table border=\"1\" class=\"dataframe\">\n",
       "  <thead>\n",
       "    <tr style=\"text-align: right;\">\n",
       "      <th></th>\n",
       "      <th>count</th>\n",
       "    </tr>\n",
       "    <tr>\n",
       "      <th>sex</th>\n",
       "      <th></th>\n",
       "    </tr>\n",
       "  </thead>\n",
       "  <tbody>\n",
       "    <tr>\n",
       "      <th>F</th>\n",
       "      <td>4910591</td>\n",
       "    </tr>\n",
       "    <tr>\n",
       "      <th>M</th>\n",
       "      <td>5438517</td>\n",
       "    </tr>\n",
       "  </tbody>\n",
       "</table>\n",
       "</div>"
      ],
      "text/plain": [
       "       count\n",
       "sex         \n",
       "F    4910591\n",
       "M    5438517"
      ]
     },
     "execution_count": 50,
     "metadata": {},
     "output_type": "execute_result"
    }
   ],
   "source": [
    "# Short form:\n",
    "babynames.groupby(\"sex\")[[\"count\"]].sum()"
   ]
  },
  {
   "cell_type": "markdown",
   "metadata": {},
   "source": [
    "## Exercise 3.9\n",
    "Complete the code with `groupby`, `sum` to display the ten most popular name and sex combinations. Compute popularity as the total number of children with a given name and sex.\n",
    "\n",
    "Replace the `...` with the appropriate content."
   ]
  },
  {
   "cell_type": "code",
   "execution_count": null,
   "metadata": {},
   "outputs": [],
   "source": [
    "# Group the babynames\n",
    "babynames_popularity = babynames.groupby(...)\n",
    "# Select the column we want\n",
    "babynames_popularity = babynames_popularity[[...]]\n",
    "# Calculate the total sum\n",
    "babynames_popularity = babynames_popularity. ...()\n",
    "# Sort appropriately\n",
    "babynames_popularity = babynames_popularity. ...\n",
    "# Get the first ten \n",
    "babynames_popularity = babynames_popularity. ...\n",
    "# Show the output\n",
    "babynames_popularity"
   ]
  },
  {
   "cell_type": "code",
   "execution_count": null,
   "metadata": {},
   "outputs": [],
   "source": []
  },
  {
   "cell_type": "code",
   "execution_count": null,
   "metadata": {},
   "outputs": [],
   "source": [
    "imdone(3,9)"
   ]
  },
  {
   "cell_type": "code",
   "execution_count": 51,
   "metadata": {},
   "outputs": [
    {
     "data": {
      "text/html": [
       "<div>\n",
       "<style scoped>\n",
       "    .dataframe tbody tr th:only-of-type {\n",
       "        vertical-align: middle;\n",
       "    }\n",
       "\n",
       "    .dataframe tbody tr th {\n",
       "        vertical-align: top;\n",
       "    }\n",
       "\n",
       "    .dataframe thead th {\n",
       "        text-align: right;\n",
       "    }\n",
       "</style>\n",
       "<table border=\"1\" class=\"dataframe\">\n",
       "  <thead>\n",
       "    <tr style=\"text-align: right;\">\n",
       "      <th></th>\n",
       "      <th></th>\n",
       "      <th>count</th>\n",
       "    </tr>\n",
       "    <tr>\n",
       "      <th>name</th>\n",
       "      <th>sex</th>\n",
       "      <th></th>\n",
       "    </tr>\n",
       "  </thead>\n",
       "  <tbody>\n",
       "    <tr>\n",
       "      <th>Joseph</th>\n",
       "      <th>M</th>\n",
       "      <td>184064</td>\n",
       "    </tr>\n",
       "    <tr>\n",
       "      <th>John</th>\n",
       "      <th>M</th>\n",
       "      <td>179579</td>\n",
       "    </tr>\n",
       "    <tr>\n",
       "      <th>Robert</th>\n",
       "      <th>M</th>\n",
       "      <td>165546</td>\n",
       "    </tr>\n",
       "    <tr>\n",
       "      <th>Michael</th>\n",
       "      <th>M</th>\n",
       "      <td>145372</td>\n",
       "    </tr>\n",
       "    <tr>\n",
       "      <th>David</th>\n",
       "      <th>M</th>\n",
       "      <td>144188</td>\n",
       "    </tr>\n",
       "    <tr>\n",
       "      <th>William</th>\n",
       "      <th>M</th>\n",
       "      <td>143261</td>\n",
       "    </tr>\n",
       "    <tr>\n",
       "      <th>James</th>\n",
       "      <th>M</th>\n",
       "      <td>136115</td>\n",
       "    </tr>\n",
       "    <tr>\n",
       "      <th>Marie</th>\n",
       "      <th>F</th>\n",
       "      <td>127270</td>\n",
       "    </tr>\n",
       "    <tr>\n",
       "      <th>Mary</th>\n",
       "      <th>F</th>\n",
       "      <td>117698</td>\n",
       "    </tr>\n",
       "    <tr>\n",
       "      <th>Christopher</th>\n",
       "      <th>M</th>\n",
       "      <td>78059</td>\n",
       "    </tr>\n",
       "  </tbody>\n",
       "</table>\n",
       "</div>"
      ],
      "text/plain": [
       "                  count\n",
       "name        sex        \n",
       "Joseph      M    184064\n",
       "John        M    179579\n",
       "Robert      M    165546\n",
       "Michael     M    145372\n",
       "David       M    144188\n",
       "William     M    143261\n",
       "James       M    136115\n",
       "Marie       F    127270\n",
       "Mary        F    117698\n",
       "Christopher M     78059"
      ]
     },
     "execution_count": 51,
     "metadata": {},
     "output_type": "execute_result"
    }
   ],
   "source": [
    "# Solution (HIDEME)\n",
    "babynames_popularity = babynames.groupby([\"name\", \"sex\"])\n",
    "babynames_popularity = babynames_popularity[[\"count\"]]\n",
    "babynames_popularity = babynames_popularity.sum()\n",
    "babynames_popularity = babynames_popularity.sort_values(by=\"count\", ascending=False)\n",
    "babynames_popularity = babynames_popularity.head(10)\n",
    "babynames_popularity\n"
   ]
  },
  {
   "cell_type": "markdown",
   "metadata": {},
   "source": [
    "We can use this result to plot. However, we need to ungroup the new DataFrame first. Using `groupby` turns the grouping into indices. That's why \"name\" and \"sex\" are slightly offset.\n",
    "\n",
    "We can undo that by calling `reset_index()`."
   ]
  },
  {
   "cell_type": "code",
   "execution_count": 52,
   "metadata": {},
   "outputs": [
    {
     "data": {
      "text/html": [
       "<div>\n",
       "<style scoped>\n",
       "    .dataframe tbody tr th:only-of-type {\n",
       "        vertical-align: middle;\n",
       "    }\n",
       "\n",
       "    .dataframe tbody tr th {\n",
       "        vertical-align: top;\n",
       "    }\n",
       "\n",
       "    .dataframe thead th {\n",
       "        text-align: right;\n",
       "    }\n",
       "</style>\n",
       "<table border=\"1\" class=\"dataframe\">\n",
       "  <thead>\n",
       "    <tr style=\"text-align: right;\">\n",
       "      <th></th>\n",
       "      <th>name</th>\n",
       "      <th>sex</th>\n",
       "      <th>count</th>\n",
       "    </tr>\n",
       "  </thead>\n",
       "  <tbody>\n",
       "    <tr>\n",
       "      <th>0</th>\n",
       "      <td>Joseph</td>\n",
       "      <td>M</td>\n",
       "      <td>184064</td>\n",
       "    </tr>\n",
       "    <tr>\n",
       "      <th>1</th>\n",
       "      <td>John</td>\n",
       "      <td>M</td>\n",
       "      <td>179579</td>\n",
       "    </tr>\n",
       "    <tr>\n",
       "      <th>2</th>\n",
       "      <td>Robert</td>\n",
       "      <td>M</td>\n",
       "      <td>165546</td>\n",
       "    </tr>\n",
       "    <tr>\n",
       "      <th>3</th>\n",
       "      <td>Michael</td>\n",
       "      <td>M</td>\n",
       "      <td>145372</td>\n",
       "    </tr>\n",
       "    <tr>\n",
       "      <th>4</th>\n",
       "      <td>David</td>\n",
       "      <td>M</td>\n",
       "      <td>144188</td>\n",
       "    </tr>\n",
       "    <tr>\n",
       "      <th>5</th>\n",
       "      <td>William</td>\n",
       "      <td>M</td>\n",
       "      <td>143261</td>\n",
       "    </tr>\n",
       "    <tr>\n",
       "      <th>6</th>\n",
       "      <td>James</td>\n",
       "      <td>M</td>\n",
       "      <td>136115</td>\n",
       "    </tr>\n",
       "    <tr>\n",
       "      <th>7</th>\n",
       "      <td>Marie</td>\n",
       "      <td>F</td>\n",
       "      <td>127270</td>\n",
       "    </tr>\n",
       "    <tr>\n",
       "      <th>8</th>\n",
       "      <td>Mary</td>\n",
       "      <td>F</td>\n",
       "      <td>117698</td>\n",
       "    </tr>\n",
       "    <tr>\n",
       "      <th>9</th>\n",
       "      <td>Christopher</td>\n",
       "      <td>M</td>\n",
       "      <td>78059</td>\n",
       "    </tr>\n",
       "  </tbody>\n",
       "</table>\n",
       "</div>"
      ],
      "text/plain": [
       "          name sex   count\n",
       "0       Joseph   M  184064\n",
       "1         John   M  179579\n",
       "2       Robert   M  165546\n",
       "3      Michael   M  145372\n",
       "4        David   M  144188\n",
       "5      William   M  143261\n",
       "6        James   M  136115\n",
       "7        Marie   F  127270\n",
       "8         Mary   F  117698\n",
       "9  Christopher   M   78059"
      ]
     },
     "execution_count": 52,
     "metadata": {},
     "output_type": "execute_result"
    }
   ],
   "source": [
    "babynames_popularity = babynames_popularity.reset_index()\n",
    "babynames_popularity"
   ]
  },
  {
   "cell_type": "markdown",
   "metadata": {},
   "source": [
    "And then we can plot it!"
   ]
  },
  {
   "cell_type": "code",
   "execution_count": 53,
   "metadata": {},
   "outputs": [
    {
     "data": {
      "image/png": "[encoded data removed]",
      "text/plain": [
       "<Figure size 864x576 with 1 Axes>"
      ]
     },
     "metadata": {
      "needs_background": "light"
     },
     "output_type": "display_data"
    }
   ],
   "source": [
    "p = sns.barplot(x=\"name\", y=\"count\", data=babynames_popularity, color=\"lightblue\")\n",
    "p.set_xticklabels(p.get_xticklabels(), size = 7)\n",
    "pass"
   ]
  },
  {
   "cell_type": "markdown",
   "metadata": {},
   "source": [
    "## Exercise 3.10\n",
    "Use `groupby()` to calculate the total number of children born for every year.\n",
    "\n",
    "Plot the results as a line graph: total vs year."
   ]
  },
  {
   "cell_type": "code",
   "execution_count": null,
   "metadata": {},
   "outputs": [],
   "source": []
  },
  {
   "cell_type": "code",
   "execution_count": null,
   "metadata": {},
   "outputs": [],
   "source": []
  },
  {
   "cell_type": "code",
   "execution_count": null,
   "metadata": {},
   "outputs": [],
   "source": [
    "imdone(3,10)"
   ]
  },
  {
   "cell_type": "code",
   "execution_count": 54,
   "metadata": {},
   "outputs": [
    {
     "data": {
      "image/png": "[encoded data removed]",
      "text/plain": [
       "<Figure size 864x576 with 1 Axes>"
      ]
     },
     "metadata": {
      "needs_background": "light"
     },
     "output_type": "display_data"
    }
   ],
   "source": [
    "# Solution (HIDEME)\n",
    "babynames_year = babynames.groupby(\"year\")\n",
    "babynames_year = babynames_year[[\"count\"]]\n",
    "babynames_year = babynames_year.sum()\n",
    "babynames_year = babynames_year.reset_index()\n",
    "babynames_year\n",
    "p = sns.lineplot(x=\"year\", y=\"count\", data=babynames_year)\n",
    "\n",
    "# Bonus: Set y-axis range\n",
    "p.set(ylim=(0,160000))\n",
    "pass"
   ]
  },
  {
   "cell_type": "code",
   "execution_count": 55,
   "metadata": {},
   "outputs": [
    {
     "data": {
      "image/png": "[encoded data removed]",
      "text/plain": [
       "<Figure size 818.075x720 with 1 Axes>"
      ]
     },
     "metadata": {
      "needs_background": "light"
     },
     "output_type": "display_data"
    }
   ],
   "source": [
    "# Bonus material (HIDEME)\n",
    "babynames_year = babynames.groupby([\"year\", \"sex\"])\n",
    "babynames_year = babynames_year[[\"count\"]]\n",
    "babynames_year = babynames_year.sum()\n",
    "babynames_year = babynames_year.reset_index()\n",
    "babynames_year\n",
    "p = sns.relplot(x=\"year\", y=\"count\", data=babynames_year, kind=\"line\", hue=\"sex\")\n",
    "p.set(ylim=(0,80000))\n",
    "pass"
   ]
  },
  {
   "cell_type": "markdown",
   "metadata": {},
   "source": [
    "## Mutating data\n",
    "\n",
    "We can add new columns to data frames on the fly which can be calculated."
   ]
  },
  {
   "cell_type": "code",
   "execution_count": 56,
   "metadata": {},
   "outputs": [],
   "source": [
    "babynames[\"percentage\"] = 100*babynames[\"prop\"]"
   ]
  },
  {
   "cell_type": "code",
   "execution_count": 57,
   "metadata": {},
   "outputs": [
    {
     "data": {
      "text/html": [
       "<div>\n",
       "<style scoped>\n",
       "    .dataframe tbody tr th:only-of-type {\n",
       "        vertical-align: middle;\n",
       "    }\n",
       "\n",
       "    .dataframe tbody tr th {\n",
       "        vertical-align: top;\n",
       "    }\n",
       "\n",
       "    .dataframe thead th {\n",
       "        text-align: right;\n",
       "    }\n",
       "</style>\n",
       "<table border=\"1\" class=\"dataframe\">\n",
       "  <thead>\n",
       "    <tr style=\"text-align: right;\">\n",
       "      <th></th>\n",
       "      <th>year</th>\n",
       "      <th>sex</th>\n",
       "      <th>name</th>\n",
       "      <th>count</th>\n",
       "      <th>prop</th>\n",
       "      <th>percentage</th>\n",
       "    </tr>\n",
       "  </thead>\n",
       "  <tbody>\n",
       "    <tr>\n",
       "      <th>96</th>\n",
       "      <td>2013</td>\n",
       "      <td>F</td>\n",
       "      <td>Aadhya</td>\n",
       "      <td>13</td>\n",
       "      <td>0.000216</td>\n",
       "      <td>0.021605</td>\n",
       "    </tr>\n",
       "    <tr>\n",
       "      <th>97</th>\n",
       "      <td>2014</td>\n",
       "      <td>F</td>\n",
       "      <td>Aadhya</td>\n",
       "      <td>12</td>\n",
       "      <td>0.000199</td>\n",
       "      <td>0.019943</td>\n",
       "    </tr>\n",
       "    <tr>\n",
       "      <th>99</th>\n",
       "      <td>2016</td>\n",
       "      <td>F</td>\n",
       "      <td>Aadhya</td>\n",
       "      <td>8</td>\n",
       "      <td>0.000133</td>\n",
       "      <td>0.013295</td>\n",
       "    </tr>\n",
       "    <tr>\n",
       "      <th>196</th>\n",
       "      <td>2013</td>\n",
       "      <td>F</td>\n",
       "      <td>Aadya</td>\n",
       "      <td>6</td>\n",
       "      <td>0.000100</td>\n",
       "      <td>0.009971</td>\n",
       "    </tr>\n",
       "    <tr>\n",
       "      <th>198</th>\n",
       "      <td>2015</td>\n",
       "      <td>F</td>\n",
       "      <td>Aadya</td>\n",
       "      <td>9</td>\n",
       "      <td>0.000150</td>\n",
       "      <td>0.014957</td>\n",
       "    </tr>\n",
       "  </tbody>\n",
       "</table>\n",
       "</div>"
      ],
      "text/plain": [
       "     year sex    name  count      prop  percentage\n",
       "96   2013   F  Aadhya     13  0.000216    0.021605\n",
       "97   2014   F  Aadhya     12  0.000199    0.019943\n",
       "99   2016   F  Aadhya      8  0.000133    0.013295\n",
       "196  2013   F   Aadya      6  0.000100    0.009971\n",
       "198  2015   F   Aadya      9  0.000150    0.014957"
      ]
     },
     "execution_count": 57,
     "metadata": {},
     "output_type": "execute_result"
    }
   ],
   "source": [
    "babynames[babynames[\"count\"]>0].head()"
   ]
  },
  {
   "cell_type": "code",
   "execution_count": 58,
   "metadata": {},
   "outputs": [],
   "source": [
    "babynames[\"nper\"] = np.round(babynames[\"percentage\"])"
   ]
  },
  {
   "cell_type": "code",
   "execution_count": 59,
   "metadata": {},
   "outputs": [
    {
     "data": {
      "text/html": [
       "<div>\n",
       "<style scoped>\n",
       "    .dataframe tbody tr th:only-of-type {\n",
       "        vertical-align: middle;\n",
       "    }\n",
       "\n",
       "    .dataframe tbody tr th {\n",
       "        vertical-align: top;\n",
       "    }\n",
       "\n",
       "    .dataframe thead th {\n",
       "        text-align: right;\n",
       "    }\n",
       "</style>\n",
       "<table border=\"1\" class=\"dataframe\">\n",
       "  <thead>\n",
       "    <tr style=\"text-align: right;\">\n",
       "      <th></th>\n",
       "      <th>year</th>\n",
       "      <th>sex</th>\n",
       "      <th>name</th>\n",
       "      <th>count</th>\n",
       "      <th>prop</th>\n",
       "      <th>percentage</th>\n",
       "      <th>nper</th>\n",
       "    </tr>\n",
       "  </thead>\n",
       "  <tbody>\n",
       "    <tr>\n",
       "      <th>3584</th>\n",
       "      <td>2001</td>\n",
       "      <td>F</td>\n",
       "      <td>Abigail</td>\n",
       "      <td>463</td>\n",
       "      <td>0.007695</td>\n",
       "      <td>0.769461</td>\n",
       "      <td>1.0</td>\n",
       "    </tr>\n",
       "    <tr>\n",
       "      <th>3585</th>\n",
       "      <td>2002</td>\n",
       "      <td>F</td>\n",
       "      <td>Abigail</td>\n",
       "      <td>480</td>\n",
       "      <td>0.007977</td>\n",
       "      <td>0.797713</td>\n",
       "      <td>1.0</td>\n",
       "    </tr>\n",
       "    <tr>\n",
       "      <th>3586</th>\n",
       "      <td>2003</td>\n",
       "      <td>F</td>\n",
       "      <td>Abigail</td>\n",
       "      <td>512</td>\n",
       "      <td>0.008509</td>\n",
       "      <td>0.850894</td>\n",
       "      <td>1.0</td>\n",
       "    </tr>\n",
       "    <tr>\n",
       "      <th>3587</th>\n",
       "      <td>2004</td>\n",
       "      <td>F</td>\n",
       "      <td>Abigail</td>\n",
       "      <td>488</td>\n",
       "      <td>0.008110</td>\n",
       "      <td>0.811008</td>\n",
       "      <td>1.0</td>\n",
       "    </tr>\n",
       "    <tr>\n",
       "      <th>3588</th>\n",
       "      <td>2005</td>\n",
       "      <td>F</td>\n",
       "      <td>Abigail</td>\n",
       "      <td>505</td>\n",
       "      <td>0.008393</td>\n",
       "      <td>0.839261</td>\n",
       "      <td>1.0</td>\n",
       "    </tr>\n",
       "  </tbody>\n",
       "</table>\n",
       "</div>"
      ],
      "text/plain": [
       "      year sex     name  count      prop  percentage  nper\n",
       "3584  2001   F  Abigail    463  0.007695    0.769461   1.0\n",
       "3585  2002   F  Abigail    480  0.007977    0.797713   1.0\n",
       "3586  2003   F  Abigail    512  0.008509    0.850894   1.0\n",
       "3587  2004   F  Abigail    488  0.008110    0.811008   1.0\n",
       "3588  2005   F  Abigail    505  0.008393    0.839261   1.0"
      ]
     },
     "execution_count": 59,
     "metadata": {},
     "output_type": "execute_result"
    }
   ],
   "source": [
    "babynames[babynames[\"nper\"]>0].head()"
   ]
  },
  {
   "cell_type": "markdown",
   "metadata": {},
   "source": [
    "## Saving Data\n",
    "To save our modified data, we can use another pandas function similar to `read_csv`. This function is called `to_csv()` and can be applied directly to a data frame."
   ]
  },
  {
   "cell_type": "code",
   "execution_count": 65,
   "metadata": {},
   "outputs": [],
   "source": [
    "babynames_year.to_csv(\"test.csv\")"
   ]
  },
  {
   "cell_type": "code",
   "execution_count": null,
   "metadata": {},
   "outputs": [],
   "source": []
  }
 ],
 "metadata": {
  "kernelspec": {
   "display_name": "Python 3 (ipykernel)",
   "language": "python",
   "name": "python3"
  },
  "language_info": {
   "codemirror_mode": {
    "name": "ipython",
    "version": 3
   },
   "file_extension": ".py",
   "mimetype": "text/x-python",
   "name": "python",
   "nbconvert_exporter": "python",
   "pygments_lexer": "ipython3",
   "version": "3.9.12"
  }
 },
 "nbformat": 4,
 "nbformat_minor": 2
}
